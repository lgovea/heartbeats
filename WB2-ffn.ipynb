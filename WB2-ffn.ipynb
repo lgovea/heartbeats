{
 "cells": [
  {
   "cell_type": "markdown",
   "metadata": {},
   "source": [
    "## WB2 - FFN"
   ]
  },
  {
   "cell_type": "markdown",
   "metadata": {},
   "source": [
    "The feature extraction process is based on this [blog](http://aqibsaeed.github.io/2016-09-03-urban-sound-classification-part-1/)\n",
    "\n",
    "Some functions will be used that were previously defined in WB1"
   ]
  },
  {
   "cell_type": "code",
   "execution_count": 1,
   "metadata": {},
   "outputs": [
    {
     "name": "stderr",
     "output_type": "stream",
     "text": [
      "Using TensorFlow backend.\n"
     ]
    }
   ],
   "source": [
    "import librosa\n",
    "import numpy as np\n",
    "import pandas as pd\n",
    "import matplotlib.pyplot as plt\n",
    "import os\n",
    "from keras.utils import np_utils\n",
    "from sklearn.preprocessing import LabelEncoder"
   ]
  },
  {
   "cell_type": "code",
   "execution_count": 2,
   "metadata": {
    "collapsed": true
   },
   "outputs": [],
   "source": [
    "def load_files(file_paths, sr):\n",
    "    waves = []\n",
    "    for path in file_paths:\n",
    "        X,sr = librosa.load(path, sr=sr)\n",
    "        waves.append(X)\n",
    "    return waves"
   ]
  },
  {
   "cell_type": "markdown",
   "metadata": {},
   "source": [
    "As described in the blog post, we are about to do dimensionality reduction of audio using feature extraction methods provided by the Python library librosa. The feature extractions methods involved are:\n",
    "\n",
    "- MFCC: representation of the short-term power spectrum of a sound\n",
    "- Mel-frequency cepstral coefficients: Coefficients that collectively make up an mel-frequency cepstrum\n",
    "- Chromagram of a short-time Fourier transform: Projects into bins representing the 12 distinct semitones of the musical octave\n",
    "- Octave-based spectral contrast: Distribution of sound energy over octave frequencies \n",
    "- Tonnetz: Estimates tonal centroids features\n",
    "\n",
    "Combining these 5 feature extractions will result in a vector of 193 values. Is important to remark that this vector will always have the same length even if the audio files are of different length. "
   ]
  },
  {
   "cell_type": "code",
   "execution_count": 3,
   "metadata": {
    "collapsed": true
   },
   "outputs": [],
   "source": [
    "def extract_features(file_name):\n",
    "    X, sr = librosa.load(file_name)\n",
    "    stft = np.abs(librosa.stft(X))\n",
    "    mfccs = np.mean(librosa.feature.mfcc(y=X, sr=sr, n_mfcc=40).T,axis=0)\n",
    "    chroma = np.mean(librosa.feature.chroma_stft(S=stft, sr=sr).T,axis=0)\n",
    "    mel = np.mean(librosa.feature.melspectrogram(X, sr=sr).T,axis=0)\n",
    "    contrast = np.mean(librosa.feature.spectral_contrast(S=stft, sr=sr).T,axis=0)\n",
    "    tonnetz = np.mean(librosa.feature.tonnetz(y=librosa.effects.harmonic(X), sr=sr).T,axis=0)\n",
    "    return mfccs,chroma,mel,contrast,tonnetz\n",
    "\n",
    "def parse_file(filename):\n",
    "    mfccs, chroma, mel, contrast, tonnetz = extract_features(filename)\n",
    "    features = np.hstack([mfccs,chroma,mel,contrast,tonnetz])\n",
    "    return features"
   ]
  },
  {
   "cell_type": "markdown",
   "metadata": {},
   "source": [
    "Now lets test the dimensionality reduction with a sample file"
   ]
  },
  {
   "cell_type": "code",
   "execution_count": 4,
   "metadata": {},
   "outputs": [
    {
     "name": "stdout",
     "output_type": "stream",
     "text": [
      "MFCSS  =  40\n",
      "Chroma =  12\n",
      "Mel =  128\n",
      "Contrast =  7\n",
      "Tonnetz =  6\n",
      "IN: Initial Data Points = 786436\n",
      "OUT: Total features = 193\n"
     ]
    }
   ],
   "source": [
    "def run_sample(filename):\n",
    "    mfccs, chroma, mel, contrast, tonnetz = extract_features(filename)\n",
    "    all_features = np.hstack((mfccs,chroma,mel,contrast,tonnetz))\n",
    "    print \"MFCSS  = \", len(mfccs)\n",
    "    print \"Chroma = \", len(chroma)\n",
    "    print \"Mel = \", len(mel)\n",
    "    print \"Contrast = \", len(contrast)\n",
    "    print \"Tonnetz = \", len(tonnetz)\n",
    "\n",
    "    data_points, _ = librosa.load(filename)\n",
    "    print \"IN: Initial Data Points =\", len(data_points)\n",
    "    print \"OUT: Total features =\", len(all_features)\n",
    "\n",
    "SAMPLE_FILE = os.path.join('data', 'physionet', 'training-a', 'a0001.wav')\n",
    "run_sample(SAMPLE_FILE)"
   ]
  },
  {
   "cell_type": "markdown",
   "metadata": {},
   "source": [
    "As it can be observed the input sound file had a total of initial data points of 786436 and it was reduced to a vector of 193 features. Now lets do the same to the rest of the Physionet Cardiology Challenge 2016 dataset. This turns out to be a really long time process, it's adviced to load the precalculated files instead."
   ]
  },
  {
   "cell_type": "code",
   "execution_count": 5,
   "metadata": {
    "collapsed": true
   },
   "outputs": [],
   "source": [
    "def parse_files(paths):\n",
    "    \n",
    "    save_path = os.path.join('data', 'physionet', 'reduced_features')\n",
    "    encoder = LabelEncoder()\n",
    "    for path, df_name in paths:\n",
    "        csv_path = os.path.join(path, 'REFERENCE.csv')\n",
    "        df = pd.read_csv(csv_path, names = ['fname', 'target'])\n",
    "        df['fname'] = df['fname'].apply(lambda f: os.path.join(path,f + '.wav'))\n",
    "        df['features'] = df['fname'].apply(parse_file)\n",
    "        df['target'] = df['target'].apply(lambda x: 1 if x == -1 else 0)\n",
    "        feature_file = os.path.join(save_path, df_name + '_x.npy')\n",
    "        label_file = os.path.join(save_path, df_name + '_y.npy')\n",
    "        np.save(feature_file, np.array(df['features'].tolist()))\n",
    "        np.save(label_file, np.array(df['target'].tolist()))\n",
    "        \n",
    "paths = [(os.path.join('data', 'physionet', 'training-a'), 'df_a'),\n",
    "         (os.path.join('data', 'physionet', 'training-b'), 'df_b'), \n",
    "         (os.path.join('data', 'physionet', 'training-c'), 'df_c'),\n",
    "         (os.path.join('data', 'physionet', 'training-d'), 'df_d'),\n",
    "         (os.path.join('data', 'physionet', 'training-e'), 'df_e')]\n",
    "\n",
    "# Uncomment this line to parse audio files.\n",
    "# This will take sometime.\n",
    "#parse_files(paths)"
   ]
  },
  {
   "cell_type": "code",
   "execution_count": 6,
   "metadata": {},
   "outputs": [
    {
     "name": "stdout",
     "output_type": "stream",
     "text": [
      "Adding X: df_a_x.npy\n",
      "Shape X: (409, 193)\n",
      "Adding y: df_a_y.npy\n",
      "Shape Y: (409,)\n",
      "Adding X: df_b_x.npy\n",
      "Shape X: (490, 193)\n",
      "Adding y: df_b_y.npy\n",
      "Shape Y: (490,)\n",
      "Adding X: df_c_x.npy\n",
      "Shape X: (31, 193)\n",
      "Adding y: df_c_y.npy\n",
      "Shape Y: (31,)\n",
      "Adding X: df_d_x.npy\n",
      "Shape X: (55, 193)\n",
      "Adding y: df_d_y.npy\n",
      "Shape Y: (55,)\n",
      "Adding X: df_e_x.npy\n",
      "Shape X: (2141, 193)\n",
      "Adding y: df_e_y.npy\n",
      "Shape Y: (2141,)\n"
     ]
    }
   ],
   "source": [
    "npfiles = [('df_a_x.npy','df_a_y.npy'),\n",
    "           ('df_b_x.npy','df_b_y.npy'),\n",
    "           ('df_c_x.npy','df_c_y.npy'),\n",
    "           ('df_d_x.npy','df_d_y.npy'),\n",
    "           ('df_e_x.npy','df_e_y.npy')]\n",
    "\n",
    "data_dir = os.path.join('data', 'physionet', 'reduced_features')\n",
    "\n",
    "def load_npfiles(npfiles):\n",
    "    concatenate = False\n",
    "    for x, y in npfiles:\n",
    "        print \"Adding X:\", x\n",
    "        loaded_features = np.load(os.path.join(data_dir, x))\n",
    "        print \"Shape X:\", loaded_features.shape\n",
    "\n",
    "        print \"Adding y:\", y\n",
    "        loaded_labels = np.load(os.path.join(data_dir, y))\n",
    "        print \"Shape Y:\", loaded_labels.shape\n",
    "\n",
    "        if concatenate:\n",
    "            features = np.concatenate((features, loaded_features))\n",
    "            labels = np.concatenate((labels, loaded_labels))\n",
    "        else:\n",
    "            features = loaded_features\n",
    "            labels = loaded_labels\n",
    "            concatenate = True\n",
    "    return features, labels\n",
    "    \n",
    "X, y = load_npfiles(npfiles)"
   ]
  },
  {
   "cell_type": "markdown",
   "metadata": {},
   "source": [
    "### Training Neural Network"
   ]
  },
  {
   "cell_type": "markdown",
   "metadata": {},
   "source": [
    "First we will split the dataset into training and testing."
   ]
  },
  {
   "cell_type": "code",
   "execution_count": 7,
   "metadata": {
    "collapsed": true
   },
   "outputs": [],
   "source": [
    "from sklearn.model_selection import train_test_split\n",
    "x_train, x_test, y_train, y_test = train_test_split(X, y, test_size=0.25)"
   ]
  },
  {
   "cell_type": "markdown",
   "metadata": {},
   "source": [
    "The following code defines funcions to calculate precision, recall and fscore. A A simple neural network is implemented with one hidden layer. A dropout of .25 has been added to prevent overfitting. This means that 25% of a neurons activation output will be ignored, and not propagated."
   ]
  },
  {
   "cell_type": "code",
   "execution_count": 8,
   "metadata": {
    "collapsed": true
   },
   "outputs": [],
   "source": [
    "from keras.models import Sequential\n",
    "from keras import layers\n",
    "import keras.backend as K\n",
    "\n",
    "def precision(y_true, y_pred):\n",
    "    true_positives = K.sum(K.round(K.clip(y_true * y_pred, 0, 1)))\n",
    "    predicted_positives = K.sum(K.round(K.clip(y_pred, 0, 1)))\n",
    "    precision = true_positives / (predicted_positives + K.epsilon())\n",
    "    return precision\n",
    "\n",
    "\n",
    "def recall(y_true, y_pred):\n",
    "    true_positives = K.sum(K.round(K.clip(y_true * y_pred, 0, 1)))\n",
    "    possible_positives = K.sum(K.round(K.clip(y_true, 0, 1)))\n",
    "    recall = true_positives / (possible_positives + K.epsilon())\n",
    "    return recall\n",
    "\n",
    "\n",
    "def fbeta_score(y_true, y_pred, beta=1):\n",
    "    if beta < 0:\n",
    "        raise ValueError('The lowest choosable beta is zero (only precision).')\n",
    "\n",
    "    # If there are no true positives, fix the F score at 0 like sklearn.\n",
    "    if K.sum(K.round(K.clip(y_true, 0, 1))) == 0:\n",
    "        return 0\n",
    "\n",
    "    p = precision(y_true, y_pred)\n",
    "    r = recall(y_true, y_pred)\n",
    "    bb = beta ** 2\n",
    "    fbeta_score = (1 + bb) * (p * r) / (bb * p + r + K.epsilon())\n",
    "    return fbeta_score\n",
    "\n",
    "def create_model():\n",
    "    model = Sequential()\n",
    "    model.add(layers.Dense(32, activation='relu', input_shape = (193,)))\n",
    "    model.add(layers.Dense(32, activation='relu'))\n",
    "    model.add(layers.Dropout(0.2))\n",
    "    model.add(layers.Dense(1, activation='sigmoid'))\n",
    "    model.compile(optimizer='adam', loss='binary_crossentropy', metrics=['accuracy', precision, recall, fbeta_score], callbacks=[checkpointer])\n",
    "    return model"
   ]
  },
  {
   "cell_type": "markdown",
   "metadata": {},
   "source": [
    "Now that everything is ready lets train a model and evaluate its results."
   ]
  },
  {
   "cell_type": "code",
   "execution_count": 9,
   "metadata": {},
   "outputs": [
    {
     "name": "stderr",
     "output_type": "stream",
     "text": [
      "/Users/lgovea/.virtualenvs/MLND/lib/python2.7/site-packages/keras/backend/tensorflow_backend.py:2094: UserWarning: Expected no kwargs, you passed 1\n",
      "kwargs passed to function are ignored with Tensorflow backend\n",
      "  warnings.warn('\\n'.join(msg))\n"
     ]
    },
    {
     "name": "stdout",
     "output_type": "stream",
     "text": [
      "Train on 2344 samples, validate on 782 samples\n",
      "Epoch 1/40\n",
      "2344/2344 [==============================] - 0s - loss: 3.3206 - acc: 0.7760 - precision: 0.8043 - recall: 0.9544 - fbeta_score: 0.8703 - val_loss: 3.4250 - val_acc: 0.7852 - val_precision: 0.7852 - val_recall: 1.0000 - val_fbeta_score: 0.8775\n",
      "Epoch 2/40\n",
      "2344/2344 [==============================] - 0s - loss: 3.1488 - acc: 0.7986 - precision: 0.8039 - recall: 0.9919 - fbeta_score: 0.8862 - val_loss: 3.4250 - val_acc: 0.7852 - val_precision: 0.7852 - val_recall: 1.0000 - val_fbeta_score: 0.8775\n",
      "Epoch 3/40\n",
      "2344/2344 [==============================] - 0s - loss: 3.1326 - acc: 0.7999 - precision: 0.8043 - recall: 0.9920 - fbeta_score: 0.8865 - val_loss: 3.4250 - val_acc: 0.7852 - val_precision: 0.7852 - val_recall: 1.0000 - val_fbeta_score: 0.8775\n",
      "Epoch 4/40\n",
      "2344/2344 [==============================] - 0s - loss: 3.1400 - acc: 0.7965 - precision: 0.8030 - recall: 0.9894 - fbeta_score: 0.8851 - val_loss: 3.4250 - val_acc: 0.7852 - val_precision: 0.7852 - val_recall: 1.0000 - val_fbeta_score: 0.8775\n",
      "Epoch 5/40\n",
      "2344/2344 [==============================] - 0s - loss: 2.8615 - acc: 0.7786 - precision: 0.8215 - recall: 0.9308 - fbeta_score: 0.8688 - val_loss: 2.8627 - val_acc: 0.7877 - val_precision: 0.7898 - val_recall: 0.9934 - val_fbeta_score: 0.8780\n",
      "Epoch 6/40\n",
      "2344/2344 [==============================] - 0s - loss: 1.6060 - acc: 0.8076 - precision: 0.8647 - recall: 0.9064 - fbeta_score: 0.8811 - val_loss: 0.8491 - val_acc: 0.8107 - val_precision: 0.8098 - val_recall: 0.9913 - val_fbeta_score: 0.8893\n",
      "Epoch 7/40\n",
      "2344/2344 [==============================] - 0s - loss: 0.5356 - acc: 0.8281 - precision: 0.8873 - recall: 0.8980 - fbeta_score: 0.8900 - val_loss: 0.4249 - val_acc: 0.8197 - val_precision: 0.8694 - val_recall: 0.9105 - val_fbeta_score: 0.8864\n",
      "Epoch 8/40\n",
      "2344/2344 [==============================] - 0s - loss: 0.3901 - acc: 0.8379 - precision: 0.8795 - recall: 0.9255 - fbeta_score: 0.8999 - val_loss: 0.3693 - val_acc: 0.8491 - val_precision: 0.8510 - val_recall: 0.9815 - val_fbeta_score: 0.9095\n",
      "Epoch 9/40\n",
      "2344/2344 [==============================] - 0s - loss: 0.3257 - acc: 0.8716 - precision: 0.8949 - recall: 0.9543 - fbeta_score: 0.9217 - val_loss: 0.3436 - val_acc: 0.8760 - val_precision: 0.9000 - val_recall: 0.9491 - val_fbeta_score: 0.9222\n",
      "Epoch 10/40\n",
      "2344/2344 [==============================] - 0s - loss: 0.3099 - acc: 0.8605 - precision: 0.8972 - recall: 0.9352 - fbeta_score: 0.9138 - val_loss: 0.3308 - val_acc: 0.8734 - val_precision: 0.9025 - val_recall: 0.9397 - val_fbeta_score: 0.9193\n",
      "Epoch 11/40\n",
      "2344/2344 [==============================] - 0s - loss: 0.3054 - acc: 0.8729 - precision: 0.8979 - recall: 0.9497 - fbeta_score: 0.9215 - val_loss: 0.2899 - val_acc: 0.8964 - val_precision: 0.9307 - val_recall: 0.9393 - val_fbeta_score: 0.9339\n",
      "Epoch 12/40\n",
      "2344/2344 [==============================] - 0s - loss: 0.3041 - acc: 0.8793 - precision: 0.9085 - recall: 0.9470 - fbeta_score: 0.9252 - val_loss: 0.2893 - val_acc: 0.8977 - val_precision: 0.9133 - val_recall: 0.9617 - val_fbeta_score: 0.9359\n",
      "Epoch 13/40\n",
      "2344/2344 [==============================] - 0s - loss: 0.2831 - acc: 0.8818 - precision: 0.9047 - recall: 0.9526 - fbeta_score: 0.9267 - val_loss: 0.2769 - val_acc: 0.8836 - val_precision: 0.8956 - val_recall: 0.9656 - val_fbeta_score: 0.9275\n",
      "Epoch 14/40\n",
      "2344/2344 [==============================] - 0s - loss: 0.2764 - acc: 0.8793 - precision: 0.9036 - recall: 0.9521 - fbeta_score: 0.9257 - val_loss: 0.2826 - val_acc: 0.8772 - val_precision: 0.8757 - val_recall: 0.9834 - val_fbeta_score: 0.9247\n",
      "Epoch 15/40\n",
      "2344/2344 [==============================] - 0s - loss: 0.2691 - acc: 0.8852 - precision: 0.9116 - recall: 0.9510 - fbeta_score: 0.9290 - val_loss: 0.2857 - val_acc: 0.8708 - val_precision: 0.8740 - val_recall: 0.9776 - val_fbeta_score: 0.9209\n",
      "Epoch 16/40\n",
      "2344/2344 [==============================] - 0s - loss: 0.2752 - acc: 0.8916 - precision: 0.9165 - recall: 0.9543 - fbeta_score: 0.9329 - val_loss: 0.2652 - val_acc: 0.8939 - val_precision: 0.9245 - val_recall: 0.9429 - val_fbeta_score: 0.9324\n",
      "Epoch 17/40\n",
      "2344/2344 [==============================] - 0s - loss: 0.2735 - acc: 0.8929 - precision: 0.9140 - recall: 0.9568 - fbeta_score: 0.9338 - val_loss: 0.2666 - val_acc: 0.8926 - val_precision: 0.9023 - val_recall: 0.9676 - val_fbeta_score: 0.9327\n",
      "Epoch 18/40\n",
      "2344/2344 [==============================] - 0s - loss: 0.2496 - acc: 0.8951 - precision: 0.9187 - recall: 0.9543 - fbeta_score: 0.9351 - val_loss: 0.2671 - val_acc: 0.8913 - val_precision: 0.8990 - val_recall: 0.9705 - val_fbeta_score: 0.9321\n",
      "Epoch 19/40\n",
      "2344/2344 [==============================] - 0s - loss: 0.2522 - acc: 0.8895 - precision: 0.9129 - recall: 0.9533 - fbeta_score: 0.9311 - val_loss: 0.2784 - val_acc: 0.8862 - val_precision: 0.9213 - val_recall: 0.9363 - val_fbeta_score: 0.9274\n",
      "Epoch 20/40\n",
      "2344/2344 [==============================] - 0s - loss: 0.2518 - acc: 0.9027 - precision: 0.9199 - recall: 0.9627 - fbeta_score: 0.9396 - val_loss: 0.2543 - val_acc: 0.8964 - val_precision: 0.9168 - val_recall: 0.9551 - val_fbeta_score: 0.9346\n",
      "Epoch 21/40\n",
      "2344/2344 [==============================] - 0s - loss: 0.2459 - acc: 0.9015 - precision: 0.9249 - recall: 0.9565 - fbeta_score: 0.9389 - val_loss: 0.2484 - val_acc: 0.9066 - val_precision: 0.9281 - val_recall: 0.9550 - val_fbeta_score: 0.9405\n",
      "Epoch 22/40\n",
      "2344/2344 [==============================] - 0s - loss: 0.2491 - acc: 0.8980 - precision: 0.9147 - recall: 0.9622 - fbeta_score: 0.9367 - val_loss: 0.2687 - val_acc: 0.8824 - val_precision: 0.8852 - val_recall: 0.9768 - val_fbeta_score: 0.9273\n",
      "Epoch 23/40\n",
      "2344/2344 [==============================] - 0s - loss: 0.2358 - acc: 0.9010 - precision: 0.9205 - recall: 0.9601 - fbeta_score: 0.9388 - val_loss: 0.2605 - val_acc: 0.8887 - val_precision: 0.9184 - val_recall: 0.9418 - val_fbeta_score: 0.9287\n",
      "Epoch 24/40\n",
      "2344/2344 [==============================] - 0s - loss: 0.2364 - acc: 0.9032 - precision: 0.9220 - recall: 0.9610 - fbeta_score: 0.9399 - val_loss: 0.2481 - val_acc: 0.9003 - val_precision: 0.9224 - val_recall: 0.9537 - val_fbeta_score: 0.9368\n",
      "Epoch 25/40\n",
      "2344/2344 [==============================] - 0s - loss: 0.2337 - acc: 0.9057 - precision: 0.9203 - recall: 0.9648 - fbeta_score: 0.9412 - val_loss: 0.2416 - val_acc: 0.9028 - val_precision: 0.9240 - val_recall: 0.9549 - val_fbeta_score: 0.9383\n",
      "Epoch 26/40\n",
      "2344/2344 [==============================] - 0s - loss: 0.2347 - acc: 0.9036 - precision: 0.9228 - recall: 0.9614 - fbeta_score: 0.9403 - val_loss: 0.2491 - val_acc: 0.8977 - val_precision: 0.9154 - val_recall: 0.9583 - val_fbeta_score: 0.9352\n",
      "Epoch 27/40\n",
      "2344/2344 [==============================] - 0s - loss: 0.2316 - acc: 0.9044 - precision: 0.9266 - recall: 0.9557 - fbeta_score: 0.9399 - val_loss: 0.2488 - val_acc: 0.8964 - val_precision: 0.9232 - val_recall: 0.9466 - val_fbeta_score: 0.9338\n",
      "Epoch 28/40\n",
      "2344/2344 [==============================] - 0s - loss: 0.2361 - acc: 0.9057 - precision: 0.9256 - recall: 0.9597 - fbeta_score: 0.9412 - val_loss: 0.2518 - val_acc: 0.9028 - val_precision: 0.9098 - val_recall: 0.9723 - val_fbeta_score: 0.9389\n",
      "Epoch 29/40\n",
      "2344/2344 [==============================] - 0s - loss: 0.2346 - acc: 0.9015 - precision: 0.9205 - recall: 0.9601 - fbeta_score: 0.9386 - val_loss: 0.2446 - val_acc: 0.9028 - val_precision: 0.9439 - val_recall: 0.9333 - val_fbeta_score: 0.9374\n",
      "Epoch 30/40\n",
      "2344/2344 [==============================] - 0s - loss: 0.2355 - acc: 0.9019 - precision: 0.9246 - recall: 0.9556 - fbeta_score: 0.9388 - val_loss: 0.2407 - val_acc: 0.9066 - val_precision: 0.9288 - val_recall: 0.9555 - val_fbeta_score: 0.9408\n",
      "Epoch 31/40\n",
      "2344/2344 [==============================] - 0s - loss: 0.2298 - acc: 0.9032 - precision: 0.9255 - recall: 0.9567 - fbeta_score: 0.9396 - val_loss: 0.2415 - val_acc: 0.9041 - val_precision: 0.9393 - val_recall: 0.9390 - val_fbeta_score: 0.9382\n",
      "Epoch 32/40\n"
     ]
    },
    {
     "name": "stdout",
     "output_type": "stream",
     "text": [
      "2344/2344 [==============================] - 0s - loss: 0.2242 - acc: 0.9091 - precision: 0.9257 - recall: 0.9648 - fbeta_score: 0.9436 - val_loss: 0.2300 - val_acc: 0.9054 - val_precision: 0.9229 - val_recall: 0.9600 - val_fbeta_score: 0.9400\n",
      "Epoch 33/40\n",
      "2344/2344 [==============================] - 0s - loss: 0.2193 - acc: 0.9078 - precision: 0.9289 - recall: 0.9595 - fbeta_score: 0.9427 - val_loss: 0.2380 - val_acc: 0.9066 - val_precision: 0.9229 - val_recall: 0.9611 - val_fbeta_score: 0.9408\n",
      "Epoch 34/40\n",
      "2344/2344 [==============================] - 0s - loss: 0.2271 - acc: 0.9061 - precision: 0.9289 - recall: 0.9555 - fbeta_score: 0.9411 - val_loss: 0.2322 - val_acc: 0.9169 - val_precision: 0.9346 - val_recall: 0.9611 - val_fbeta_score: 0.9468\n",
      "Epoch 35/40\n",
      "2344/2344 [==============================] - 0s - loss: 0.2228 - acc: 0.9125 - precision: 0.9307 - recall: 0.9628 - fbeta_score: 0.9453 - val_loss: 0.2344 - val_acc: 0.9066 - val_precision: 0.9175 - val_recall: 0.9672 - val_fbeta_score: 0.9409\n",
      "Epoch 36/40\n",
      "2344/2344 [==============================] - 0s - loss: 0.2157 - acc: 0.9117 - precision: 0.9331 - recall: 0.9594 - fbeta_score: 0.9450 - val_loss: 0.2396 - val_acc: 0.8977 - val_precision: 0.9125 - val_recall: 0.9610 - val_fbeta_score: 0.9351\n",
      "Epoch 37/40\n",
      "2344/2344 [==============================] - 0s - loss: 0.2183 - acc: 0.9061 - precision: 0.9225 - recall: 0.9639 - fbeta_score: 0.9419 - val_loss: 0.2363 - val_acc: 0.9003 - val_precision: 0.9199 - val_recall: 0.9565 - val_fbeta_score: 0.9369\n",
      "Epoch 38/40\n",
      "2344/2344 [==============================] - 0s - loss: 0.2138 - acc: 0.9066 - precision: 0.9273 - recall: 0.9579 - fbeta_score: 0.9410 - val_loss: 0.2319 - val_acc: 0.9028 - val_precision: 0.9264 - val_recall: 0.9517 - val_fbeta_score: 0.9379\n",
      "Epoch 39/40\n",
      "2344/2344 [==============================] - 0s - loss: 0.2227 - acc: 0.9083 - precision: 0.9276 - recall: 0.9603 - fbeta_score: 0.9426 - val_loss: 0.2378 - val_acc: 0.9092 - val_precision: 0.9288 - val_recall: 0.9580 - val_fbeta_score: 0.9421\n",
      "Epoch 40/40\n",
      "2344/2344 [==============================] - 0s - loss: 0.2161 - acc: 0.9078 - precision: 0.9306 - recall: 0.9585 - fbeta_score: 0.9433 - val_loss: 0.2270 - val_acc: 0.9092 - val_precision: 0.9231 - val_recall: 0.9645 - val_fbeta_score: 0.9425\n"
     ]
    }
   ],
   "source": [
    "model = create_model()\n",
    "history = model.fit(x_train, y_train, epochs=40, batch_size=32, validation_data=(x_test, y_test))"
   ]
  },
  {
   "cell_type": "markdown",
   "metadata": {},
   "source": [
    "Saving the model"
   ]
  },
  {
   "cell_type": "code",
   "execution_count": 10,
   "metadata": {
    "collapsed": true
   },
   "outputs": [],
   "source": [
    "model.save_weights('models/ffn.hdf5')"
   ]
  },
  {
   "cell_type": "markdown",
   "metadata": {},
   "source": [
    "Lets display the curves of loss and accuracy during training"
   ]
  },
  {
   "cell_type": "code",
   "execution_count": 11,
   "metadata": {},
   "outputs": [
    {
     "data": {
      "image/png": "[encoded data removed]",
      "text/plain": [
       "<matplotlib.figure.Figure at 0x119722f10>"
      ]
     },
     "metadata": {},
     "output_type": "display_data"
    }
   ],
   "source": [
    "epochs = range(1, 41)\n",
    "plt.figure()\n",
    "plt.plot(epochs, history.history['loss'], 'bo', label='Training loss')\n",
    "plt.plot(epochs, history.history['val_loss'], 'b', label='Validation loss')\n",
    "plt.title('Training and validation loss')\n",
    "plt.legend()\n",
    "plt.show()"
   ]
  },
  {
   "cell_type": "code",
   "execution_count": 12,
   "metadata": {},
   "outputs": [
    {
     "data": {
      "image/png": "[encoded data removed]",
      "text/plain": [
       "<matplotlib.figure.Figure at 0x11981c990>"
      ]
     },
     "metadata": {},
     "output_type": "display_data"
    }
   ],
   "source": [
    "plt.figure()\n",
    "plt.plot(epochs, history.history['acc'], 'bo', label='Training accuracy')\n",
    "plt.plot(epochs, history.history['val_acc'], 'b', label='Validation accuracy')\n",
    "plt.title('Training and validation accuracy')\n",
    "plt.legend()\n",
    "plt.show()"
   ]
  },
  {
   "cell_type": "markdown",
   "metadata": {},
   "source": [
    "It can be observed that after the fifth epoc the validation loss starts to decrease dramatically. Also the training curves are closely tracking the validation curves.\n",
    "\n",
    "Finally lets display the acccuracy, precision, recall, and fscore."
   ]
  },
  {
   "cell_type": "code",
   "execution_count": 14,
   "metadata": {},
   "outputs": [
    {
     "name": "stdout",
     "output_type": "stream",
     "text": [
      "704/782 [==========================>...] - ETA: 0s\n",
      "Accuracy = 0.91\n",
      "Precision = 0.92\n",
      "Recall= 0.96\n",
      "Fbeta = 0.94\n"
     ]
    }
   ],
   "source": [
    "model.load_weights('models/ffn.hdf5')\n",
    "\n",
    "loss, accuracy, precision, recall, fbeta = model.evaluate(x_test, y_test, batch_size=32)\n",
    "print(\"\\nAccuracy = {:.2f}\".format(accuracy))\n",
    "print(\"Precision = {:.2f}\".format(precision))\n",
    "print(\"Recall= {:.2f}\".format(recall))\n",
    "print(\"Fbeta = {:.2f}\".format(fbeta))"
   ]
  },
  {
   "cell_type": "markdown",
   "metadata": {
    "collapsed": true
   },
   "source": [
    "Even if the neural network implemented was extremly simple, surprisingly we are getting some incredible results."
   ]
  }
 ],
 "metadata": {
  "kernelspec": {
   "display_name": "Python 2",
   "language": "python",
   "name": "python2"
  },
  "language_info": {
   "codemirror_mode": {
    "name": "ipython",
    "version": 2
   },
   "file_extension": ".py",
   "mimetype": "text/x-python",
   "name": "python",
   "nbconvert_exporter": "python",
   "pygments_lexer": "ipython2",
   "version": "2.7.10"
  }
 },
 "nbformat": 4,
 "nbformat_minor": 2
}
