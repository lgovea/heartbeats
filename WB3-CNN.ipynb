{
 "cells": [
  {
   "cell_type": "markdown",
   "metadata": {},
   "source": [
    "## CNN"
   ]
  },
  {
   "cell_type": "markdown",
   "metadata": {},
   "source": [
    "In the previous notebook, we trained a neural network to classify heartbeas as normal or abnormal. In this notebook we will take a step further and perform the same task with a CNN to compare results.\n",
    "\n",
    "CNNs have been well known for their sucess at classification tasks, mainly with images. To use them to classify audio files is necessary to extract audio features in such a way that they meet requirements needed for CNNs. The method is explained by Karol J. Piczak in his paper Environmental sound classification with convolutional neural networks (http://karol.piczak.com/papers/Piczak2015-ESC-ConvNet.pdf). This describes how to get equal size segments from varying length audio clips, and which audio features can be fed into the network as separate channels (akin to RGB channels of colour images)."
   ]
  },
  {
   "cell_type": "markdown",
   "metadata": {},
   "source": [
    "### Feature Extraction"
   ]
  },
  {
   "cell_type": "markdown",
   "metadata": {},
   "source": [
    "The idea is to calculate log-scaled mel-spectrograms and their corresponding deltas from a sound clip. Because we need fixed size input, we split each sound clip into 41 overlapping frames, one for each of the 60 mel-bands, giving an array of 60 rows and 41 columns. The mel-spectrogram for each band/segment and its time-series deltas will become two channels, which becomes our input to feed into the CNN. Other features could be calculated in the same way and supplied as a separate input channel, but we'll stick with just the mel-spectragram data for this example.\n",
    "\n",
    "The feature extraction process is based on example code posted by Aaqib Saeed: http://aqibsaeed.github.io/2016-09-24-urban-sound-classification-part-2/"
   ]
  },
  {
   "cell_type": "code",
   "execution_count": 1,
   "metadata": {
    "collapsed": true
   },
   "outputs": [],
   "source": [
    "from sklearn.metrics import precision_score, recall_score, f1_score, confusion_matrix\n",
    "import glob\n",
    "import os\n",
    "import librosa\n",
    "import matplotlib.pyplot as plt\n",
    "import tensorflow as tf\n",
    "import numpy as np\n",
    "import pandas as pd\n",
    "\n",
    "\n",
    "def windows(data, window_size):\n",
    "    start = 0\n",
    "    while start < len(data):\n",
    "        yield start, start + window_size\n",
    "        start += (window_size / 2)\n",
    "\n",
    "def extract_features(filename, bands = 60, frames = 41):\n",
    "    window_size = 512 * (frames - 1)\n",
    "    log_specgrams = []\n",
    "    sound_clip,s = librosa.load(filename)        \n",
    "    for (start,end) in windows(sound_clip,window_size):\n",
    "        start = int(start)\n",
    "        end = int(end)\n",
    "        if(len(sound_clip[start:end]) == window_size):\n",
    "            signal = sound_clip[start:end]\n",
    "            melspec = librosa.feature.melspectrogram(signal, n_mels = bands)\n",
    "            logspec = librosa.logamplitude(melspec)\n",
    "            logspec = logspec.T.flatten()[:, np.newaxis].T\n",
    "            log_specgrams.append(logspec)\n",
    "            \n",
    "    log_specgrams = np.asarray(log_specgrams).reshape(len(log_specgrams),bands,frames,1)\n",
    "    features = np.concatenate((log_specgrams, np.zeros(np.shape(log_specgrams))), axis = 3)\n",
    "    for i in range(len(features)):\n",
    "        features[i, :, :, 1] = librosa.feature.delta(features[i, :, :, 0])\n",
    "    \n",
    "    return np.array(features)"
   ]
  },
  {
   "cell_type": "markdown",
   "metadata": {},
   "source": [
    "Now lets test this method with a sample file"
   ]
  },
  {
   "cell_type": "code",
   "execution_count": 2,
   "metadata": {},
   "outputs": [
    {
     "name": "stdout",
     "output_type": "stream",
     "text": [
      "('IN: Initial Data Points =', 786436)\n",
      "('OUT: Total features =', (75, 60, 41, 2))\n"
     ]
    }
   ],
   "source": [
    "SAMPLE_FILE = os.path.join('data', 'physionet', 'training-a', 'a0001.wav')\n",
    "features = extract_features(SAMPLE_FILE)\n",
    "data_points, _ = librosa.load(SAMPLE_FILE)\n",
    "print (\"IN: Initial Data Points =\", len(data_points))\n",
    "print (\"OUT: Total features =\", np.shape(features))"
   ]
  },
  {
   "cell_type": "markdown",
   "metadata": {},
   "source": [
    "Its important to point out that this method outputs a feature representation bigger than the previous method used for the FFN. For the same file this method has reduced the input from 786436 features to 369000 compared to the previous 193 features. By having more information it is expected to have better results.\n",
    "\n",
    "Let's proceed with the rest of the dataset."
   ]
  },
  {
   "cell_type": "code",
   "execution_count": 2,
   "metadata": {
    "collapsed": true
   },
   "outputs": [],
   "source": [
    "def parse_files(subdirs):\n",
    "    parent_dir = os.path.join('data', 'physionet')\n",
    "    save_path = os.path.join('data', 'physionet', 'reduced_features')\n",
    "    bands = 60\n",
    "    frames = 41\n",
    "    window_size = 512 * (frames - 1)\n",
    "    for path, df_name in paths:\n",
    "        log_specgrams = []\n",
    "        labels = []\n",
    "        csv_path = os.path.join(path, 'REFERENCE.csv')\n",
    "        df = pd.read_csv(csv_path, names = ['fname', 'target'])\n",
    "        df['fname'] = df['fname'].apply(lambda f: os.path.join(path,f + '.wav'))\n",
    "        df['target'] = df['target'].apply(lambda x: 1 if x == -1 else 0)\n",
    "        for index, row in df.iterrows():\n",
    "            sound_clip,s = librosa.load(row['fname'])\n",
    "            label = row['target']\n",
    "            for (start,end) in windows(sound_clip,window_size):\n",
    "                if(len(sound_clip[start:end]) == int(window_size)):\n",
    "                    signal = sound_clip[start:end]\n",
    "                    melspec = librosa.feature.melspectrogram(signal, n_mels = bands)\n",
    "                    logspec = librosa.logamplitude(melspec)\n",
    "                    logspec = logspec.T.flatten()[:, np.newaxis].T\n",
    "                    log_specgrams.append(logspec)\n",
    "                    labels.append(label)\n",
    "        log_specgrams = np.asarray(log_specgrams).reshape(len(log_specgrams),bands,frames,1)\n",
    "        features = np.concatenate((log_specgrams, np.zeros(np.shape(log_specgrams))), axis = 3)\n",
    "        for i in range(len(features)):\n",
    "            features[i, :, :, 1] = librosa.feature.delta(features[i, :, :, 0])\n",
    "        feature_file = os.path.join(save_path, df_name + '_cnn_x.npy')\n",
    "        np.save(feature_file, np.array(features))\n",
    "        feature_file = os.path.join(save_path, df_name + '_cnn_y.npy')\n",
    "        np.save(feature_file, np.array(labels))"
   ]
  },
  {
   "cell_type": "code",
   "execution_count": 3,
   "metadata": {
    "collapsed": true
   },
   "outputs": [],
   "source": [
    "paths = [(os.path.join('data', 'physionet', 'training-a'), 'df_a'),\n",
    "         (os.path.join('data', 'physionet', 'training-b'), 'df_b'), \n",
    "         (os.path.join('data', 'physionet', 'training-c'), 'df_c'),\n",
    "         (os.path.join('data', 'physionet', 'training-d'), 'df_d'),\n",
    "         (os.path.join('data', 'physionet', 'training-e'), 'df_e')]\n",
    "\n",
    "# Uncomment line below to parse all files.\n",
    "# parse_files(paths)"
   ]
  },
  {
   "cell_type": "markdown",
   "metadata": {},
   "source": [
    "I have included a subset of the parsed files at the repo in order to test the CNN. The complete dataset for this part measures about 5GB uncompressed. To test the CNN with the full dataset will require to parse all files locally, which will take some time."
   ]
  },
  {
   "cell_type": "code",
   "execution_count": 4,
   "metadata": {},
   "outputs": [
    {
     "name": "stdout",
     "output_type": "stream",
     "text": [
      "Adding X: df_a_cnn_x.npy\n",
      "Shape X: (28071, 60, 41, 2)\n",
      "Adding y: df_a_cnn_y.npy\n",
      "Shape Y: (28071,)\n",
      "Adding X: df_b_cnn_x.npy\n",
      "Shape X: (7815, 60, 41, 2)\n",
      "Adding y: df_b_cnn_y.npy\n",
      "Shape Y: (7815,)\n",
      "Adding X: df_c_cnn_x.npy\n",
      "Shape X: (3251, 60, 41, 2)\n",
      "Adding y: df_c_cnn_y.npy\n",
      "Shape Y: (3251,)\n",
      "Adding X: df_d_cnn_x.npy\n",
      "Shape X: (1712, 60, 41, 2)\n",
      "Adding y: df_d_cnn_y.npy\n",
      "Shape Y: (1712,)\n",
      "Adding X: df_e_cnn_x.npy\n",
      "Shape X: (103175, 60, 41, 2)\n",
      "Adding y: df_e_cnn_y.npy\n",
      "Shape Y: (103175,)\n"
     ]
    }
   ],
   "source": [
    "# Uncomment this to use subset found at repo.\n",
    "# npfiles = [('df_a_cnn_x.npy','df_a_cnn_y.npy'),\n",
    "#           ('df_b_cnn_x.npy','df_b_cnn_y.npy'),\n",
    "#           ('df_c_cnn_x.npy','df_c_cnn_y.npy'),\n",
    "#           ('df_d_cnn_x.npy','df_d_cnn_y.npy')]\n",
    "\n",
    "npfiles = [('df_a_cnn_x.npy','df_a_cnn_y.npy'),\n",
    "           ('df_b_cnn_x.npy','df_b_cnn_y.npy'),\n",
    "           ('df_c_cnn_x.npy','df_c_cnn_y.npy'),\n",
    "           ('df_d_cnn_x.npy','df_d_cnn_y.npy'),\n",
    "           ('df_e_cnn_x.npy','df_e_cnn_y.npy')]\n",
    "\n",
    "data_dir = os.path.join('data', 'physionet', 'reduced_features')\n",
    "\n",
    "def load_npfiles(npfiles):\n",
    "    concatenate = False\n",
    "    for x, y in npfiles:\n",
    "        print(\"Adding X:\", x)\n",
    "        loaded_features = np.load(os.path.join(data_dir, x))\n",
    "        print(\"Shape X:\", loaded_features.shape)\n",
    "\n",
    "        print(\"Adding y:\", y)\n",
    "        loaded_labels = np.load(os.path.join(data_dir, y))\n",
    "        print(\"Shape Y:\", loaded_labels.shape)\n",
    "\n",
    "        if concatenate:\n",
    "            features = np.concatenate((features, loaded_features))\n",
    "            labels = np.concatenate((labels, loaded_labels))\n",
    "        else:\n",
    "            features = loaded_features\n",
    "            labels = loaded_labels\n",
    "            concatenate = True\n",
    "    return features, labels\n",
    "    \n",
    "X, y = load_npfiles(npfiles)"
   ]
  },
  {
   "cell_type": "markdown",
   "metadata": {},
   "source": [
    "### Training"
   ]
  },
  {
   "cell_type": "code",
   "execution_count": 5,
   "metadata": {
    "collapsed": true
   },
   "outputs": [],
   "source": [
    "from sklearn.model_selection import train_test_split\n",
    "x_train, x_test, y_train, y_test = train_test_split(X, y, test_size=0.25)"
   ]
  },
  {
   "cell_type": "code",
   "execution_count": 19,
   "metadata": {
    "collapsed": true
   },
   "outputs": [],
   "source": [
    "from keras.models import Sequential\n",
    "from keras.layers import Convolution2D, MaxPooling2D\n",
    "from keras.layers import Dense, Dropout, Activation, Flatten\n",
    "import keras.backend as K\n",
    "\n",
    "def create_model(dropout_rate=0.5):\n",
    "    frames = 41\n",
    "    bands = 60\n",
    "    feature_size = bands * frames\n",
    "    num_channels = 2\n",
    "    f_size = 1\n",
    "    model = Sequential()\n",
    "    model.add(Convolution2D(48, f_size, strides=f_size, kernel_initializer='normal', padding='same', input_shape=(bands, frames, num_channels)))\n",
    "    model.add(Convolution2D(48, f_size, strides=f_size, kernel_initializer='normal', padding='same'))\n",
    "    model.add(Activation('relu'))\n",
    "    model.add(MaxPooling2D(pool_size=(2, 2)))\n",
    "    model.add(Convolution2D(96, f_size, strides=f_size, kernel_initializer='normal', padding='same'))\n",
    "    model.add(Convolution2D(96, f_size, strides=f_size, kernel_initializer='normal', padding='same'))\n",
    "    model.add(Activation('relu'))\n",
    "    model.add(MaxPooling2D(pool_size=(2, 2)))\n",
    "    model.add(Flatten())\n",
    "    model.add(Dense(256))\n",
    "    model.add(Activation('relu'))\n",
    "    model.add(Dense(32))\n",
    "    model.add(Dropout(dropout_rate))\n",
    "    model.add(Dense(1))\n",
    "    model.add(Activation('sigmoid'))\n",
    "    model.compile(optimizer='adam', loss='binary_crossentropy', metrics=['accuracy'])\n",
    "    return model"
   ]
  },
  {
   "cell_type": "code",
   "execution_count": 7,
   "metadata": {
    "collapsed": true
   },
   "outputs": [],
   "source": [
    "model = create_model()"
   ]
  },
  {
   "cell_type": "code",
   "execution_count": 8,
   "metadata": {},
   "outputs": [
    {
     "name": "stdout",
     "output_type": "stream",
     "text": [
      "Train on 108018 samples, validate on 36006 samples\n",
      "Epoch 1/25\n",
      "108018/108018 [==============================] - 97s - loss: 0.3027 - acc: 0.8588 - val_loss: 0.2355 - val_acc: 0.8963\n",
      "Epoch 2/25\n",
      "108018/108018 [==============================] - 73s - loss: 0.2293 - acc: 0.8989 - val_loss: 0.1912 - val_acc: 0.9130\n",
      "Epoch 3/25\n",
      "108018/108018 [==============================] - 73s - loss: 0.1971 - acc: 0.9135 - val_loss: 0.1815 - val_acc: 0.9203\n",
      "Epoch 4/25\n",
      "108018/108018 [==============================] - 73s - loss: 0.1803 - acc: 0.9204 - val_loss: 0.1746 - val_acc: 0.9209\n",
      "Epoch 5/25\n",
      "108018/108018 [==============================] - 73s - loss: 0.1703 - acc: 0.9256 - val_loss: 0.1734 - val_acc: 0.9217\n",
      "Epoch 6/25\n",
      "108018/108018 [==============================] - 73s - loss: 0.1608 - acc: 0.9289 - val_loss: 0.1670 - val_acc: 0.9274\n",
      "Epoch 7/25\n",
      "108018/108018 [==============================] - 73s - loss: 0.1543 - acc: 0.9323 - val_loss: 0.1722 - val_acc: 0.9240\n",
      "Epoch 8/25\n",
      "108018/108018 [==============================] - 73s - loss: 0.1473 - acc: 0.9360 - val_loss: 0.1620 - val_acc: 0.9256\n",
      "Epoch 9/25\n",
      "108018/108018 [==============================] - 73s - loss: 0.1403 - acc: 0.9394 - val_loss: 0.1495 - val_acc: 0.9330\n",
      "Epoch 10/25\n",
      "108018/108018 [==============================] - 73s - loss: 0.1342 - acc: 0.9422 - val_loss: 0.1543 - val_acc: 0.9325\n",
      "Epoch 11/25\n",
      "108018/108018 [==============================] - 73s - loss: 0.1285 - acc: 0.9439 - val_loss: 0.1530 - val_acc: 0.9335\n",
      "Epoch 12/25\n",
      "108018/108018 [==============================] - 73s - loss: 0.1235 - acc: 0.9470 - val_loss: 0.1737 - val_acc: 0.9296\n",
      "Epoch 13/25\n",
      "108018/108018 [==============================] - 73s - loss: 0.1200 - acc: 0.9482 - val_loss: 0.1538 - val_acc: 0.9314\n",
      "Epoch 14/25\n",
      "108018/108018 [==============================] - 73s - loss: 0.1161 - acc: 0.9502 - val_loss: 0.2454 - val_acc: 0.9225\n",
      "Epoch 15/25\n",
      "108018/108018 [==============================] - 73s - loss: 0.1103 - acc: 0.9538 - val_loss: 0.1516 - val_acc: 0.9365\n",
      "Epoch 16/25\n",
      "108018/108018 [==============================] - 73s - loss: 0.1056 - acc: 0.9551 - val_loss: 0.1630 - val_acc: 0.9346\n",
      "Epoch 17/25\n",
      "108018/108018 [==============================] - 73s - loss: 0.1014 - acc: 0.9576 - val_loss: 0.1571 - val_acc: 0.9349\n",
      "Epoch 18/25\n",
      "108018/108018 [==============================] - 73s - loss: 0.0993 - acc: 0.9587 - val_loss: 0.1740 - val_acc: 0.9336\n",
      "Epoch 19/25\n",
      "108018/108018 [==============================] - 73s - loss: 0.0935 - acc: 0.9614 - val_loss: 0.1843 - val_acc: 0.9362\n",
      "Epoch 20/25\n",
      "108018/108018 [==============================] - 73s - loss: 0.0914 - acc: 0.9620 - val_loss: 0.1847 - val_acc: 0.9338\n",
      "Epoch 21/25\n",
      "108018/108018 [==============================] - 73s - loss: 0.0875 - acc: 0.9636 - val_loss: 0.1988 - val_acc: 0.9346\n",
      "Epoch 22/25\n",
      "108018/108018 [==============================] - 73s - loss: 0.0843 - acc: 0.9660 - val_loss: 0.1769 - val_acc: 0.9358\n",
      "Epoch 23/25\n",
      "108018/108018 [==============================] - 73s - loss: 0.0808 - acc: 0.9671 - val_loss: 0.2028 - val_acc: 0.9356\n",
      "Epoch 24/25\n",
      "108018/108018 [==============================] - 73s - loss: 0.0777 - acc: 0.9678 - val_loss: 0.1874 - val_acc: 0.9328\n",
      "Epoch 25/25\n",
      "108018/108018 [==============================] - 73s - loss: 0.0761 - acc: 0.9690 - val_loss: 0.2168 - val_acc: 0.9303\n"
     ]
    }
   ],
   "source": [
    "history = model.fit(x_train, y_train, epochs=25, batch_size=32, validation_data=(x_test, y_test))"
   ]
  },
  {
   "cell_type": "markdown",
   "metadata": {
    "collapsed": true
   },
   "source": [
    "Saving the model"
   ]
  },
  {
   "cell_type": "code",
   "execution_count": 9,
   "metadata": {
    "collapsed": true
   },
   "outputs": [],
   "source": [
    "model.save_weights('models/cnn.hdf5')"
   ]
  },
  {
   "cell_type": "markdown",
   "metadata": {},
   "source": [
    "### Results"
   ]
  },
  {
   "cell_type": "markdown",
   "metadata": {},
   "source": [
    "Lets display the curves of loss and accuracy during training"
   ]
  },
  {
   "cell_type": "code",
   "execution_count": 10,
   "metadata": {},
   "outputs": [
    {
     "data": {
      "image/png": "[encoded data removed]",
      "text/plain": [
       "<matplotlib.figure.Figure at 0x7f2a8bb2b160>"
      ]
     },
     "metadata": {},
     "output_type": "display_data"
    }
   ],
   "source": [
    "epochs = range(1, 26)\n",
    "plt.figure()\n",
    "plt.plot(epochs, history.history['loss'], 'bo', label='Training loss')\n",
    "plt.plot(epochs, history.history['val_loss'], 'b', label='Validation loss')\n",
    "plt.title('Training and validation loss')\n",
    "plt.legend()\n",
    "plt.show()"
   ]
  },
  {
   "cell_type": "code",
   "execution_count": 11,
   "metadata": {},
   "outputs": [
    {
     "data": {
      "image/png": "[encoded data removed]",
      "text/plain": [
       "<matplotlib.figure.Figure at 0x7f2a8bb2b048>"
      ]
     },
     "metadata": {},
     "output_type": "display_data"
    }
   ],
   "source": [
    "plt.figure()\n",
    "plt.plot(epochs, history.history['acc'], 'bo', label='Training accuracy')\n",
    "plt.plot(epochs, history.history['val_acc'], 'b', label='Validation accuracy')\n",
    "plt.title('Training and validation accuracy')\n",
    "plt.legend()\n",
    "plt.show()"
   ]
  },
  {
   "cell_type": "markdown",
   "metadata": {},
   "source": [
    "From the graphs we can observe that accuracy of the model does not increases after the 10th epoch."
   ]
  },
  {
   "cell_type": "code",
   "execution_count": 12,
   "metadata": {
    "collapsed": true
   },
   "outputs": [],
   "source": [
    "model.load_weights('models/cnn.hdf5')"
   ]
  },
  {
   "cell_type": "code",
   "execution_count": 14,
   "metadata": {},
   "outputs": [
    {
     "name": "stdout",
     "output_type": "stream",
     "text": [
      "35744/36006 [============================>.] - ETA: 0s\n",
      "Accuracy: 0.930317169361\n",
      "Precision: 0.949037534374\n",
      "Recall: 0.960876482499\n",
      "F-Score: 0.954920315504\n",
      "Confusion Matrix:\n",
      "[[ 6923  1427]\n",
      " [ 1082 26574]]\n"
     ]
    }
   ],
   "source": [
    "def evaluate(model, x_test, y_test):\n",
    "    y_pred = model.predict_classes(x_test)\n",
    "\n",
    "    score, accuracy = model.evaluate(x_test, y_test, batch_size=32)\n",
    "    print(\"\\nAccuracy:\", accuracy)\n",
    "\n",
    "    p = precision_score(y_test, y_pred)\n",
    "    r = recall_score(y_test, y_pred)\n",
    "    f1 = f1_score(y_test, y_pred)\n",
    "    print(\"Precision:\", p)\n",
    "    print(\"Recall:\", r)\n",
    "    print(\"F-Score:\", f1)\n",
    "    print(\"Confusion Matrix:\")\n",
    "    print(confusion_matrix(y_test, y_pred))\n",
    "    \n",
    "evaluate(model, x_test, y_test)"
   ]
  },
  {
   "cell_type": "markdown",
   "metadata": {},
   "source": [
    "### Refinement"
   ]
  },
  {
   "cell_type": "markdown",
   "metadata": {},
   "source": [
    "As same as we did with the FFN to use GridSearch to find a set of hyperparameters that would generate the best model, we will use the same method with the CNN. Because of the time required to train the CNN in this part we will only experiment with the dropout rate. The same method can be applied to different parameters but it will require the signature of the function to create the model to match with what will be used in the GridSearch."
   ]
  },
  {
   "cell_type": "code",
   "execution_count": 20,
   "metadata": {},
   "outputs": [
    {
     "name": "stdout",
     "output_type": "stream",
     "text": [
      "Epoch 1/10\n",
      "72012/72012 [==============================] - 45s - loss: 0.3191 - acc: 0.8442    \n",
      "Epoch 2/10\n",
      "72012/72012 [==============================] - 45s - loss: 0.2519 - acc: 0.8844    \n",
      "Epoch 3/10\n",
      "72012/72012 [==============================] - 45s - loss: 0.2232 - acc: 0.9004    \n",
      "Epoch 4/10\n",
      "72012/72012 [==============================] - 45s - loss: 0.1983 - acc: 0.9119    \n",
      "Epoch 5/10\n",
      "72012/72012 [==============================] - 45s - loss: 0.1815 - acc: 0.9201    \n",
      "Epoch 6/10\n",
      "72012/72012 [==============================] - 45s - loss: 0.1703 - acc: 0.9259    \n",
      "Epoch 7/10\n",
      "72012/72012 [==============================] - 45s - loss: 0.1611 - acc: 0.9302    \n",
      "Epoch 8/10\n",
      "72012/72012 [==============================] - 45s - loss: 0.1524 - acc: 0.9346    \n",
      "Epoch 9/10\n",
      "72012/72012 [==============================] - 45s - loss: 0.1465 - acc: 0.9366    \n",
      "Epoch 10/10\n",
      "72012/72012 [==============================] - 45s - loss: 0.1405 - acc: 0.9396    \n",
      "72000/72012 [============================>.] - ETA: 0sEpoch 1/10\n",
      "72012/72012 [==============================] - 45s - loss: 0.3185 - acc: 0.8472    \n",
      "Epoch 2/10\n",
      "72012/72012 [==============================] - 45s - loss: 0.2561 - acc: 0.8832    \n",
      "Epoch 3/10\n",
      "72012/72012 [==============================] - 45s - loss: 0.2290 - acc: 0.8992    \n",
      "Epoch 4/10\n",
      "72012/72012 [==============================] - 45s - loss: 0.2066 - acc: 0.9097    \n",
      "Epoch 5/10\n",
      "72012/72012 [==============================] - 45s - loss: 0.1949 - acc: 0.9147    \n",
      "Epoch 6/10\n",
      "72012/72012 [==============================] - 45s - loss: 0.1801 - acc: 0.9219    \n",
      "Epoch 7/10\n",
      "72012/72012 [==============================] - 45s - loss: 0.1695 - acc: 0.9272    \n",
      "Epoch 8/10\n",
      "72012/72012 [==============================] - 45s - loss: 0.1600 - acc: 0.9308    \n",
      "Epoch 9/10\n",
      "72012/72012 [==============================] - 45s - loss: 0.1503 - acc: 0.9341    \n",
      "Epoch 10/10\n",
      "72012/72012 [==============================] - 45s - loss: 0.1428 - acc: 0.9385    \n",
      "36006/36006 [==============================] - 5s     \n",
      "72000/72012 [============================>.] - ETA: 0sEpoch 1/10\n",
      "72012/72012 [==============================] - 45s - loss: 0.3122 - acc: 0.8504    \n",
      "Epoch 2/10\n",
      "72012/72012 [==============================] - 45s - loss: 0.2466 - acc: 0.8889    \n",
      "Epoch 3/10\n",
      "72012/72012 [==============================] - 45s - loss: 0.2107 - acc: 0.9055    \n",
      "Epoch 4/10\n",
      "72012/72012 [==============================] - 45s - loss: 0.1873 - acc: 0.9163    \n",
      "Epoch 5/10\n",
      "72012/72012 [==============================] - 45s - loss: 0.1724 - acc: 0.9244    \n",
      "Epoch 6/10\n",
      "72012/72012 [==============================] - 45s - loss: 0.1637 - acc: 0.9285    \n",
      "Epoch 7/10\n",
      "72012/72012 [==============================] - 45s - loss: 0.1510 - acc: 0.9341    \n",
      "Epoch 8/10\n",
      "72012/72012 [==============================] - 45s - loss: 0.1429 - acc: 0.9384    \n",
      "Epoch 9/10\n",
      "72012/72012 [==============================] - 45s - loss: 0.1334 - acc: 0.9418    \n",
      "Epoch 10/10\n",
      "72012/72012 [==============================] - 45s - loss: 0.1263 - acc: 0.9455    \n",
      "71744/72012 [============================>.] - ETA: 0sEpoch 1/10\n",
      "72012/72012 [==============================] - 46s - loss: 0.3161 - acc: 0.8479    \n",
      "Epoch 2/10\n",
      "72012/72012 [==============================] - 45s - loss: 0.2507 - acc: 0.8856    \n",
      "Epoch 3/10\n",
      "72012/72012 [==============================] - 45s - loss: 0.2178 - acc: 0.9006    \n",
      "Epoch 4/10\n",
      "72012/72012 [==============================] - 45s - loss: 0.1976 - acc: 0.9118    \n",
      "Epoch 5/10\n",
      "72012/72012 [==============================] - 45s - loss: 0.1820 - acc: 0.9189    \n",
      "Epoch 6/10\n",
      "72012/72012 [==============================] - 45s - loss: 0.1711 - acc: 0.9245    \n",
      "Epoch 7/10\n",
      "72012/72012 [==============================] - 45s - loss: 0.1625 - acc: 0.9286    \n",
      "Epoch 8/10\n",
      "72012/72012 [==============================] - 45s - loss: 0.1539 - acc: 0.9311    \n",
      "Epoch 9/10\n",
      "72012/72012 [==============================] - 45s - loss: 0.1469 - acc: 0.9357    \n",
      "Epoch 10/10\n",
      "72012/72012 [==============================] - 45s - loss: 0.1386 - acc: 0.9398    \n",
      "71744/72012 [============================>.] - ETA: 0sEpoch 1/10\n",
      "72012/72012 [==============================] - 46s - loss: 0.3161 - acc: 0.8466    \n",
      "Epoch 2/10\n",
      "72012/72012 [==============================] - 45s - loss: 0.2545 - acc: 0.8834    \n",
      "Epoch 3/10\n",
      "72012/72012 [==============================] - 45s - loss: 0.2236 - acc: 0.8985    \n",
      "Epoch 4/10\n",
      "72012/72012 [==============================] - 45s - loss: 0.1986 - acc: 0.9122    \n",
      "Epoch 5/10\n",
      "72012/72012 [==============================] - 45s - loss: 0.1863 - acc: 0.9180    \n",
      "Epoch 6/10\n",
      "72012/72012 [==============================] - 45s - loss: 0.1743 - acc: 0.9240    \n",
      "Epoch 7/10\n",
      "72012/72012 [==============================] - 45s - loss: 0.1642 - acc: 0.9282    \n",
      "Epoch 8/10\n",
      "72012/72012 [==============================] - 45s - loss: 0.1555 - acc: 0.9316    \n",
      "Epoch 9/10\n",
      "72012/72012 [==============================] - 45s - loss: 0.1478 - acc: 0.9358    \n",
      "Epoch 10/10\n",
      "72012/72012 [==============================] - 45s - loss: 0.1404 - acc: 0.9387    \n",
      "71712/72012 [============================>.] - ETA: 0sEpoch 1/10\n",
      "72012/72012 [==============================] - 46s - loss: 0.3169 - acc: 0.8472    \n",
      "Epoch 2/10\n",
      "72012/72012 [==============================] - 45s - loss: 0.2492 - acc: 0.8875    \n",
      "Epoch 3/10\n",
      "72012/72012 [==============================] - 45s - loss: 0.2197 - acc: 0.9014    \n",
      "Epoch 4/10\n",
      "72012/72012 [==============================] - 45s - loss: 0.1953 - acc: 0.9133    \n",
      "Epoch 5/10\n",
      "72012/72012 [==============================] - 45s - loss: 0.1804 - acc: 0.9207    \n",
      "Epoch 6/10\n",
      "72012/72012 [==============================] - 45s - loss: 0.1683 - acc: 0.9267    \n",
      "Epoch 7/10\n",
      "72012/72012 [==============================] - 45s - loss: 0.1600 - acc: 0.9294    \n",
      "Epoch 8/10\n",
      "72012/72012 [==============================] - 45s - loss: 0.1528 - acc: 0.9339    \n",
      "Epoch 9/10\n",
      "72012/72012 [==============================] - 45s - loss: 0.1449 - acc: 0.9363    \n",
      "Epoch 10/10\n",
      "72012/72012 [==============================] - 45s - loss: 0.1385 - acc: 0.9405    \n",
      "71712/72012 [============================>.] - ETA: 0sEpoch 1/10\n",
      "72012/72012 [==============================] - 46s - loss: 0.3138 - acc: 0.8492    \n",
      "Epoch 2/10\n",
      "72012/72012 [==============================] - 45s - loss: 0.2427 - acc: 0.8900    \n",
      "Epoch 3/10\n",
      "72012/72012 [==============================] - 45s - loss: 0.2122 - acc: 0.9054    \n",
      "Epoch 4/10\n",
      "72012/72012 [==============================] - 45s - loss: 0.1912 - acc: 0.9144    \n",
      "Epoch 5/10\n",
      "72012/72012 [==============================] - 45s - loss: 0.1807 - acc: 0.9195    \n",
      "Epoch 6/10\n",
      "72012/72012 [==============================] - 45s - loss: 0.1705 - acc: 0.9240    \n",
      "Epoch 7/10\n",
      "72012/72012 [==============================] - 45s - loss: 0.1623 - acc: 0.9278    \n",
      "Epoch 8/10\n",
      "72012/72012 [==============================] - 45s - loss: 0.1542 - acc: 0.9304    \n",
      "Epoch 9/10\n",
      "72012/72012 [==============================] - 45s - loss: 0.1492 - acc: 0.9341    \n",
      "Epoch 10/10\n",
      "72012/72012 [==============================] - 45s - loss: 0.1421 - acc: 0.9379    \n",
      "71968/72012 [============================>.] - ETA: 0sEpoch 1/10\n",
      "72012/72012 [==============================] - 46s - loss: 0.3200 - acc: 0.8471    \n",
      "Epoch 2/10\n",
      "72012/72012 [==============================] - 45s - loss: 0.2461 - acc: 0.8880    \n",
      "Epoch 3/10\n",
      "72012/72012 [==============================] - 45s - loss: 0.2127 - acc: 0.9041    \n",
      "Epoch 4/10\n",
      "72012/72012 [==============================] - 45s - loss: 0.1919 - acc: 0.9145    \n",
      "Epoch 5/10\n",
      "72012/72012 [==============================] - 45s - loss: 0.1776 - acc: 0.9216    \n",
      "Epoch 6/10\n",
      "72012/72012 [==============================] - 45s - loss: 0.1681 - acc: 0.9253    \n",
      "Epoch 7/10\n",
      "72012/72012 [==============================] - 45s - loss: 0.1602 - acc: 0.9303    \n",
      "Epoch 8/10\n",
      "72012/72012 [==============================] - 45s - loss: 0.1538 - acc: 0.9325    \n",
      "Epoch 9/10\n",
      "72012/72012 [==============================] - 45s - loss: 0.1477 - acc: 0.9351    \n",
      "Epoch 10/10\n",
      "72012/72012 [==============================] - 45s - loss: 0.1410 - acc: 0.9390    \n",
      "71712/72012 [============================>.] - ETA: 0sEpoch 1/10\n",
      "72012/72012 [==============================] - 46s - loss: 0.3173 - acc: 0.8478    \n",
      "Epoch 2/10\n"
     ]
    },
    {
     "name": "stdout",
     "output_type": "stream",
     "text": [
      "72012/72012 [==============================] - 45s - loss: 0.2501 - acc: 0.8865    \n",
      "Epoch 3/10\n",
      "72012/72012 [==============================] - 45s - loss: 0.2117 - acc: 0.9061    \n",
      "Epoch 4/10\n",
      "72012/72012 [==============================] - 45s - loss: 0.1882 - acc: 0.9173    \n",
      "Epoch 5/10\n",
      "72012/72012 [==============================] - 45s - loss: 0.1720 - acc: 0.9243    \n",
      "Epoch 6/10\n",
      "72012/72012 [==============================] - 45s - loss: 0.1632 - acc: 0.9288    \n",
      "Epoch 7/10\n",
      "72012/72012 [==============================] - 45s - loss: 0.1531 - acc: 0.9331    \n",
      "Epoch 8/10\n",
      "72012/72012 [==============================] - 45s - loss: 0.1442 - acc: 0.9362    \n",
      "Epoch 9/10\n",
      "72012/72012 [==============================] - 45s - loss: 0.1370 - acc: 0.9414    \n",
      "Epoch 10/10\n",
      "72012/72012 [==============================] - 45s - loss: 0.1303 - acc: 0.9431    \n",
      "71968/72012 [============================>.] - ETA: 0sEpoch 1/10\n",
      "72012/72012 [==============================] - 46s - loss: 0.3211 - acc: 0.8455    \n",
      "Epoch 2/10\n",
      "72012/72012 [==============================] - 45s - loss: 0.2564 - acc: 0.8836    \n",
      "Epoch 3/10\n",
      "72012/72012 [==============================] - 45s - loss: 0.2281 - acc: 0.8985    \n",
      "Epoch 4/10\n",
      "72012/72012 [==============================] - 45s - loss: 0.2058 - acc: 0.9104    \n",
      "Epoch 5/10\n",
      "72012/72012 [==============================] - 45s - loss: 0.1898 - acc: 0.9170    \n",
      "Epoch 6/10\n",
      "72012/72012 [==============================] - ETA: 0s - loss: 0.1758 - acc: 0.923 - 45s - loss: 0.1758 - acc: 0.9231    \n",
      "Epoch 7/10\n",
      "72012/72012 [==============================] - 45s - loss: 0.1651 - acc: 0.9282    \n",
      "Epoch 8/10\n",
      "72012/72012 [==============================] - 45s - loss: 0.1555 - acc: 0.9320    \n",
      "Epoch 9/10\n",
      "72012/72012 [==============================] - 45s - loss: 0.1467 - acc: 0.9368    \n",
      "Epoch 10/10\n",
      "72012/72012 [==============================] - 45s - loss: 0.1417 - acc: 0.9387    \n",
      "71840/72012 [============================>.] - ETA: 0sEpoch 1/10\n",
      "72012/72012 [==============================] - 46s - loss: 0.3148 - acc: 0.8512    \n",
      "Epoch 2/10\n",
      "72012/72012 [==============================] - 45s - loss: 0.2463 - acc: 0.8891    \n",
      "Epoch 3/10\n",
      "72012/72012 [==============================] - 45s - loss: 0.2129 - acc: 0.9058    \n",
      "Epoch 4/10\n",
      "72012/72012 [==============================] - 45s - loss: 0.1902 - acc: 0.9160    \n",
      "Epoch 5/10\n",
      "72012/72012 [==============================] - 45s - loss: 0.1779 - acc: 0.9213    \n",
      "Epoch 6/10\n",
      "72012/72012 [==============================] - 45s - loss: 0.1657 - acc: 0.9274    \n",
      "Epoch 7/10\n",
      "72012/72012 [==============================] - 45s - loss: 0.1577 - acc: 0.9308    \n",
      "Epoch 8/10\n",
      "72012/72012 [==============================] - 45s - loss: 0.1521 - acc: 0.9340    \n",
      "Epoch 9/10\n",
      "72012/72012 [==============================] - 45s - loss: 0.1446 - acc: 0.9370    \n",
      "Epoch 10/10\n",
      "72012/72012 [==============================] - 45s - loss: 0.1399 - acc: 0.9393    \n",
      "71776/72012 [============================>.] - ETA: 0sEpoch 1/10\n",
      "72012/72012 [==============================] - 46s - loss: 0.3189 - acc: 0.8486    \n",
      "Epoch 2/10\n",
      "72012/72012 [==============================] - 45s - loss: 0.2441 - acc: 0.8916    \n",
      "Epoch 3/10\n",
      "72012/72012 [==============================] - 45s - loss: 0.2153 - acc: 0.9034    \n",
      "Epoch 4/10\n",
      "72012/72012 [==============================] - 45s - loss: 0.1974 - acc: 0.9132    \n",
      "Epoch 5/10\n",
      "72012/72012 [==============================] - 45s - loss: 0.1844 - acc: 0.9196    \n",
      "Epoch 6/10\n",
      "72012/72012 [==============================] - 45s - loss: 0.1715 - acc: 0.9251    \n",
      "Epoch 7/10\n",
      "72012/72012 [==============================] - 45s - loss: 0.1628 - acc: 0.9297    \n",
      "Epoch 8/10\n",
      "72012/72012 [==============================] - 45s - loss: 0.1516 - acc: 0.9353    \n",
      "Epoch 9/10\n",
      "72012/72012 [==============================] - 45s - loss: 0.1445 - acc: 0.9381    \n",
      "Epoch 10/10\n",
      "72012/72012 [==============================] - 45s - loss: 0.1374 - acc: 0.9411    \n",
      "71840/72012 [============================>.] - ETA: 0sEpoch 1/10\n",
      "72012/72012 [==============================] - 46s - loss: 0.3201 - acc: 0.8452    \n",
      "Epoch 2/10\n",
      "72012/72012 [==============================] - 45s - loss: 0.2515 - acc: 0.8848    \n",
      "Epoch 3/10\n",
      "72012/72012 [==============================] - 45s - loss: 0.2161 - acc: 0.9023    \n",
      "Epoch 4/10\n",
      "72012/72012 [==============================] - 45s - loss: 0.1931 - acc: 0.9149    \n",
      "Epoch 5/10\n",
      "72012/72012 [==============================] - 45s - loss: 0.1791 - acc: 0.9202    \n",
      "Epoch 6/10\n",
      "72012/72012 [==============================] - 45s - loss: 0.1713 - acc: 0.9236    \n",
      "Epoch 7/10\n",
      "72012/72012 [==============================] - 45s - loss: 0.1616 - acc: 0.9299    \n",
      "Epoch 8/10\n",
      "72012/72012 [==============================] - 45s - loss: 0.1513 - acc: 0.9344    \n",
      "Epoch 9/10\n",
      "72012/72012 [==============================] - 45s - loss: 0.1451 - acc: 0.9378    \n",
      "Epoch 10/10\n",
      "72012/72012 [==============================] - 45s - loss: 0.1372 - acc: 0.9401    \n",
      "36006/36006 [==============================] - 6s     \n",
      "71904/72012 [============================>.] - ETA: 0sEpoch 1/10\n",
      "72012/72012 [==============================] - 46s - loss: 0.3246 - acc: 0.8430    \n",
      "Epoch 2/10\n",
      "72012/72012 [==============================] - 45s - loss: 0.2560 - acc: 0.8844    \n",
      "Epoch 3/10\n",
      "72012/72012 [==============================] - 45s - loss: 0.2279 - acc: 0.8985    \n",
      "Epoch 4/10\n",
      "72012/72012 [==============================] - 45s - loss: 0.2042 - acc: 0.9097    \n",
      "Epoch 5/10\n",
      "72012/72012 [==============================] - 45s - loss: 0.1856 - acc: 0.9187    \n",
      "Epoch 6/10\n",
      "72012/72012 [==============================] - 45s - loss: 0.1736 - acc: 0.9253    \n",
      "Epoch 7/10\n",
      "72012/72012 [==============================] - 45s - loss: 0.1628 - acc: 0.9292    \n",
      "Epoch 8/10\n",
      "72012/72012 [==============================] - 45s - loss: 0.1539 - acc: 0.9330    \n",
      "Epoch 9/10\n",
      "72012/72012 [==============================] - 45s - loss: 0.1493 - acc: 0.9353    \n",
      "Epoch 10/10\n",
      "72012/72012 [==============================] - 45s - loss: 0.1397 - acc: 0.9402    \n",
      "71712/72012 [============================>.] - ETA: 0sEpoch 1/10\n",
      "72012/72012 [==============================] - 46s - loss: 0.3233 - acc: 0.8465    \n",
      "Epoch 2/10\n",
      "72012/72012 [==============================] - 45s - loss: 0.2634 - acc: 0.8811    \n",
      "Epoch 3/10\n",
      "72012/72012 [==============================] - 45s - loss: 0.2417 - acc: 0.8936    \n",
      "Epoch 4/10\n",
      "72012/72012 [==============================] - 45s - loss: 0.2236 - acc: 0.9014    \n",
      "Epoch 5/10\n",
      "72012/72012 [==============================] - 45s - loss: 0.2094 - acc: 0.9083    \n",
      "Epoch 6/10\n",
      "72012/72012 [==============================] - 45s - loss: 0.1931 - acc: 0.9156    \n",
      "Epoch 7/10\n",
      "72012/72012 [==============================] - 45s - loss: 0.1807 - acc: 0.9212    \n",
      "Epoch 8/10\n",
      "72012/72012 [==============================] - 45s - loss: 0.1700 - acc: 0.9258    \n",
      "Epoch 9/10\n",
      "72012/72012 [==============================] - 45s - loss: 0.1610 - acc: 0.9303    \n",
      "Epoch 10/10\n",
      "72012/72012 [==============================] - 45s - loss: 0.1544 - acc: 0.9324    \n",
      "71840/72012 [============================>.] - ETA: 0sEpoch 1/10\n",
      "108018/108018 [==============================] - 69s - loss: 0.3020 - acc: 0.8559    \n",
      "Epoch 2/10\n",
      "108018/108018 [==============================] - 68s - loss: 0.2323 - acc: 0.8968    \n",
      "Epoch 3/10\n",
      "108018/108018 [==============================] - 68s - loss: 0.2006 - acc: 0.9115    \n",
      "Epoch 4/10\n",
      "108018/108018 [==============================] - 68s - loss: 0.1823 - acc: 0.9206    \n",
      "Epoch 5/10\n",
      "108018/108018 [==============================] - 68s - loss: 0.1674 - acc: 0.9274    \n",
      "Epoch 6/10\n",
      "108018/108018 [==============================] - 68s - loss: 0.1573 - acc: 0.9316    \n",
      "Epoch 7/10\n",
      "108018/108018 [==============================] - 68s - loss: 0.1469 - acc: 0.9369    \n",
      "Epoch 8/10\n",
      "108018/108018 [==============================] - 68s - loss: 0.1411 - acc: 0.9384    \n",
      "Epoch 9/10\n",
      "108018/108018 [==============================] - 68s - loss: 0.1335 - acc: 0.9424    \n",
      "Epoch 10/10\n",
      "108018/108018 [==============================] - 68s - loss: 0.1277 - acc: 0.9450    \n",
      "Best: 0.952775 using {'dropout_rate': 0.4}\n"
     ]
    }
   ],
   "source": [
    "from keras.wrappers.scikit_learn import KerasClassifier\n",
    "from sklearn.model_selection import GridSearchCV\n",
    "\n",
    "model = KerasClassifier(build_fn=create_model)\n",
    "\n",
    "dropout_rate = [0.1, 0.2, 0.3, 0.4, 0.5]\n",
    "\n",
    "param_grid = dict(dropout_rate=dropout_rate)\n",
    "grid = GridSearchCV(estimator=model, param_grid=param_grid, scoring='f1')\n",
    "\n",
    "grid_result = grid.fit(x_train, y_train)\n",
    "\n",
    "print(\"Best: %f using %s\" % (grid_result.best_score_, grid_result.best_params_))"
   ]
  },
  {
   "cell_type": "markdown",
   "metadata": {},
   "source": [
    "Now that we have the best value for the dropout rate lets use that to train a model. Also, from the first model we observed that after the 10th epoch the accuracy of the model did not improve, so we will use that value to train this model as well."
   ]
  },
  {
   "cell_type": "code",
   "execution_count": 22,
   "metadata": {
    "collapsed": true
   },
   "outputs": [],
   "source": [
    "model = create_model(dropout_rate=0.4)"
   ]
  },
  {
   "cell_type": "code",
   "execution_count": 23,
   "metadata": {},
   "outputs": [
    {
     "name": "stdout",
     "output_type": "stream",
     "text": [
      "Train on 108018 samples, validate on 36006 samples\n",
      "Epoch 1/10\n",
      "108018/108018 [==============================] - 75s - loss: 0.3003 - acc: 0.8581 - val_loss: 0.2245 - val_acc: 0.8982\n",
      "Epoch 2/10\n",
      "108018/108018 [==============================] - 74s - loss: 0.2263 - acc: 0.8971 - val_loss: 0.2227 - val_acc: 0.8984\n",
      "Epoch 3/10\n",
      "108018/108018 [==============================] - 75s - loss: 0.1956 - acc: 0.9132 - val_loss: 0.1869 - val_acc: 0.9169\n",
      "Epoch 4/10\n",
      "108018/108018 [==============================] - 74s - loss: 0.1792 - acc: 0.9202 - val_loss: 0.1732 - val_acc: 0.9241\n",
      "Epoch 5/10\n",
      "108018/108018 [==============================] - 74s - loss: 0.1696 - acc: 0.9248 - val_loss: 0.1656 - val_acc: 0.9253\n",
      "Epoch 6/10\n",
      "108018/108018 [==============================] - 74s - loss: 0.1616 - acc: 0.9296 - val_loss: 0.1721 - val_acc: 0.9255\n",
      "Epoch 7/10\n",
      "108018/108018 [==============================] - 74s - loss: 0.1546 - acc: 0.9324 - val_loss: 0.1624 - val_acc: 0.9283\n",
      "Epoch 8/10\n",
      "108018/108018 [==============================] - 74s - loss: 0.1470 - acc: 0.9356 - val_loss: 0.1546 - val_acc: 0.9313\n",
      "Epoch 9/10\n",
      "108018/108018 [==============================] - 74s - loss: 0.1405 - acc: 0.9393 - val_loss: 0.1614 - val_acc: 0.9265\n",
      "Epoch 10/10\n",
      "108018/108018 [==============================] - 74s - loss: 0.1343 - acc: 0.9413 - val_loss: 0.1516 - val_acc: 0.9334\n"
     ]
    }
   ],
   "source": [
    "history = model.fit(x_train, y_train, epochs=10, batch_size=32, validation_data=(x_test, y_test))"
   ]
  },
  {
   "cell_type": "code",
   "execution_count": 24,
   "metadata": {
    "collapsed": true
   },
   "outputs": [],
   "source": [
    "model.save_weights('models/cnn_best.hdf5')"
   ]
  },
  {
   "cell_type": "code",
   "execution_count": 25,
   "metadata": {},
   "outputs": [
    {
     "data": {
      "image/png": "[encoded data removed]",
      "text/plain": [
       "<matplotlib.figure.Figure at 0x7f2821527be0>"
      ]
     },
     "metadata": {},
     "output_type": "display_data"
    }
   ],
   "source": [
    "epochs = range(1, 11)\n",
    "plt.figure()\n",
    "plt.plot(epochs, history.history['loss'], 'bo', label='Training loss')\n",
    "plt.plot(epochs, history.history['val_loss'], 'b', label='Validation loss')\n",
    "plt.title('Training and validation loss')\n",
    "plt.legend()\n",
    "plt.show()"
   ]
  },
  {
   "cell_type": "code",
   "execution_count": 26,
   "metadata": {},
   "outputs": [
    {
     "data": {
      "image/png": "[encoded data removed]",
      "text/plain": [
       "<matplotlib.figure.Figure at 0x7f2821527b38>"
      ]
     },
     "metadata": {},
     "output_type": "display_data"
    }
   ],
   "source": [
    "plt.figure()\n",
    "plt.plot(epochs, history.history['acc'], 'bo', label='Training accuracy')\n",
    "plt.plot(epochs, history.history['val_acc'], 'b', label='Validation accuracy')\n",
    "plt.title('Training and validation accuracy')\n",
    "plt.legend()\n",
    "plt.show()"
   ]
  },
  {
   "cell_type": "code",
   "execution_count": 27,
   "metadata": {},
   "outputs": [
    {
     "name": "stdout",
     "output_type": "stream",
     "text": [
      "36006/36006 [==============================] - 6s     \n",
      "\n",
      "Accuracy: 0.933399988891\n",
      "Precision: 0.962228240978\n",
      "Recall: 0.950607463118\n",
      "F-Score: 0.956382553021\n",
      "Confusion Matrix:\n",
      "[[ 7318  1032]\n",
      " [ 1366 26290]]\n"
     ]
    }
   ],
   "source": [
    "evaluate(model, x_test, y_test)"
   ]
  },
  {
   "cell_type": "markdown",
   "metadata": {},
   "source": [
    "From the results above we can observe that the results did not improve by much, but we will still use this model in the next notebook."
   ]
  }
 ],
 "metadata": {
  "kernelspec": {
   "display_name": "Python 2",
   "language": "python",
   "name": "python2"
  },
  "language_info": {
   "codemirror_mode": {
    "name": "ipython",
    "version": 2
   },
   "file_extension": ".py",
   "mimetype": "text/x-python",
   "name": "python",
   "nbconvert_exporter": "python",
   "pygments_lexer": "ipython2",
   "version": "2.7.10"
  }
 },
 "nbformat": 4,
 "nbformat_minor": 2
}
