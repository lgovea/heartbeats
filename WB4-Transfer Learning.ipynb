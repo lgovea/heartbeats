{
 "cells": [
  {
   "cell_type": "markdown",
   "metadata": {},
   "source": [
    "## Transfer Learning"
   ]
  },
  {
   "cell_type": "markdown",
   "metadata": {},
   "source": [
    "Up to this point all the analysis has been related to the Physionet Cardiology Challenge 2016 dataset, in this notebook we will put all the pieces together and try to solve the classification problem for the Kaggle dataset.\n",
    "\n",
    "The same method in WB2 will used here. We will start by defining some methods to do feature extraction from the audio files preset in the Kaggle dataset. Then, we will use this to train a simple Feed Forward Network to have a result as a reference. Since more detail is provided in WB2, we will start with implementation."
   ]
  },
  {
   "cell_type": "code",
   "execution_count": 78,
   "metadata": {
    "collapsed": true
   },
   "outputs": [],
   "source": [
    "import librosa\n",
    "import numpy as np\n",
    "import pandas as pd\n",
    "import IPython.display as ipd\n",
    "import matplotlib.pyplot as plt\n",
    "import os\n",
    "from librosa import display\n",
    "from keras.preprocessing.sequence import pad_sequences\n",
    "from sklearn.preprocessing import LabelEncoder\n",
    "from sklearn.metrics import precision_score, recall_score, f1_score, confusion_matrix"
   ]
  },
  {
   "cell_type": "markdown",
   "metadata": {},
   "source": [
    "## FFN"
   ]
  },
  {
   "cell_type": "code",
   "execution_count": 38,
   "metadata": {
    "collapsed": true
   },
   "outputs": [],
   "source": [
    "def extract_features_fnn(file_name):\n",
    "    X, sr = librosa.load(file_name)\n",
    "    stft = np.abs(librosa.stft(X))\n",
    "    mfccs = np.mean(librosa.feature.mfcc(y=X, sr=sr, n_mfcc=40).T,axis=0)\n",
    "    chroma = np.mean(librosa.feature.chroma_stft(S=stft, sr=sr).T,axis=0)\n",
    "    mel = np.mean(librosa.feature.melspectrogram(X, sr=sr).T,axis=0)\n",
    "    contrast = np.mean(librosa.feature.spectral_contrast(S=stft, sr=sr).T,axis=0)\n",
    "    tonnetz = np.mean(librosa.feature.tonnetz(y=librosa.effects.harmonic(X), sr=sr).T,axis=0)\n",
    "    return mfccs,chroma,mel,contrast,tonnetz\n",
    "\n",
    "def parse_file_fnn(filename):\n",
    "    mfccs, chroma, mel, contrast, tonnetz = extract_features_fnn(filename)\n",
    "    features = np.hstack([mfccs,chroma,mel,contrast,tonnetz])\n",
    "    return features"
   ]
  },
  {
   "cell_type": "markdown",
   "metadata": {},
   "source": [
    "As we saw on WB1 the csv containing the labels for the Kaggle dataset has some row that do not have a label. The following method does the necessary cleaning and returns a dataframe with clean data."
   ]
  },
  {
   "cell_type": "code",
   "execution_count": 80,
   "metadata": {
    "collapsed": true
   },
   "outputs": [],
   "source": [
    "def clean_dataset():\n",
    "    df = pd.read_csv('data/kaggle/set_a.csv')\n",
    "    df.drop(['sublabel'], axis=1, inplace=True)\n",
    "    df.dropna(inplace=True)\n",
    "    df['fname'] = df['fname'].apply(lambda fname: 'data/kaggle/' + fname)\n",
    "    return df\n",
    "\n",
    "df = clean_dataset()"
   ]
  },
  {
   "cell_type": "markdown",
   "metadata": {},
   "source": [
    "Calculate features"
   ]
  },
  {
   "cell_type": "code",
   "execution_count": 48,
   "metadata": {
    "collapsed": true
   },
   "outputs": [],
   "source": [
    "df['features'] = df['fname'].apply(parse_file_fnn)"
   ]
  },
  {
   "cell_type": "markdown",
   "metadata": {},
   "source": [
    "This time we a dealing with multiple labels and therefore we will need a LabelEncoder that comes from sklearn"
   ]
  },
  {
   "cell_type": "code",
   "execution_count": 49,
   "metadata": {
    "collapsed": true
   },
   "outputs": [],
   "source": [
    "from keras.utils import np_utils\n",
    "encoder = LabelEncoder()\n",
    "encoder.fit(df['label'])\n",
    "encoded_Y = encoder.transform(df['label'])\n",
    "y = np_utils.to_categorical(encoded_Y)"
   ]
  },
  {
   "cell_type": "code",
   "execution_count": 50,
   "metadata": {
    "collapsed": true
   },
   "outputs": [],
   "source": [
    "features = df[\"features\"]\n",
    "X = np.array(features.tolist())"
   ]
  },
  {
   "cell_type": "markdown",
   "metadata": {},
   "source": [
    "## Training FFN"
   ]
  },
  {
   "cell_type": "markdown",
   "metadata": {},
   "source": [
    "Split training and testing data"
   ]
  },
  {
   "cell_type": "code",
   "execution_count": 63,
   "metadata": {
    "collapsed": true
   },
   "outputs": [],
   "source": [
    "from sklearn.model_selection import train_test_split\n",
    "x_train, x_test, y_train, y_test, train_filenames, test_filenames = \\\n",
    "    train_test_split(X, y, df['fname'].values, test_size=0.30, random_state=42)"
   ]
  },
  {
   "cell_type": "code",
   "execution_count": 64,
   "metadata": {
    "collapsed": true
   },
   "outputs": [],
   "source": [
    "from keras.models import Sequential\n",
    "from keras import layers\n",
    "\n",
    "def create_ffn_model():\n",
    "    model = Sequential()\n",
    "    model.add(layers.Dense(32, activation='relu', input_shape = (193,)))\n",
    "    model.add(layers.Dense(32, activation='relu'))\n",
    "    model.add(layers.Dense(4, activation='softmax'))\n",
    "    model.compile(optimizer='adam', loss='categorical_crossentropy', metrics=['accuracy'])\n",
    "    return model"
   ]
  },
  {
   "cell_type": "code",
   "execution_count": 65,
   "metadata": {
    "collapsed": true
   },
   "outputs": [],
   "source": [
    "model = create_ffn_model()"
   ]
  },
  {
   "cell_type": "code",
   "execution_count": 66,
   "metadata": {},
   "outputs": [
    {
     "name": "stdout",
     "output_type": "stream",
     "text": [
      "Train on 86 samples, validate on 38 samples\n",
      "Epoch 1/40\n",
      "86/86 [==============================] - 0s - loss: 10.8974 - acc: 0.1395 - val_loss: 8.1333 - val_acc: 0.3421\n",
      "Epoch 2/40\n",
      "86/86 [==============================] - 0s - loss: 9.2818 - acc: 0.2442 - val_loss: 7.2904 - val_acc: 0.2632\n",
      "Epoch 3/40\n",
      "86/86 [==============================] - 0s - loss: 8.4320 - acc: 0.2209 - val_loss: 6.9771 - val_acc: 0.2105\n",
      "Epoch 4/40\n",
      "86/86 [==============================] - 0s - loss: 7.8326 - acc: 0.2558 - val_loss: 6.9649 - val_acc: 0.2632\n",
      "Epoch 5/40\n",
      "86/86 [==============================] - 0s - loss: 7.3171 - acc: 0.2674 - val_loss: 6.6103 - val_acc: 0.2368\n",
      "Epoch 6/40\n",
      "86/86 [==============================] - 0s - loss: 6.5002 - acc: 0.2907 - val_loss: 5.4824 - val_acc: 0.2632\n",
      "Epoch 7/40\n",
      "86/86 [==============================] - 0s - loss: 5.9451 - acc: 0.3372 - val_loss: 5.6003 - val_acc: 0.3421\n",
      "Epoch 8/40\n",
      "86/86 [==============================] - 0s - loss: 5.8126 - acc: 0.3721 - val_loss: 4.9594 - val_acc: 0.5263\n",
      "Epoch 9/40\n",
      "86/86 [==============================] - 0s - loss: 5.3472 - acc: 0.4651 - val_loss: 5.4542 - val_acc: 0.3158\n",
      "Epoch 10/40\n",
      "86/86 [==============================] - 0s - loss: 5.5100 - acc: 0.4186 - val_loss: 5.1738 - val_acc: 0.2895\n",
      "Epoch 11/40\n",
      "86/86 [==============================] - 0s - loss: 5.2562 - acc: 0.4767 - val_loss: 4.7542 - val_acc: 0.5526\n",
      "Epoch 12/40\n",
      "86/86 [==============================] - 0s - loss: 5.3332 - acc: 0.5116 - val_loss: 4.8964 - val_acc: 0.5000\n",
      "Epoch 13/40\n",
      "86/86 [==============================] - 0s - loss: 5.3207 - acc: 0.5116 - val_loss: 4.8707 - val_acc: 0.5000\n",
      "Epoch 14/40\n",
      "86/86 [==============================] - ETA: 0s - loss: 6.0231 - acc: 0.500 - 0s - loss: 5.2441 - acc: 0.5581 - val_loss: 4.8608 - val_acc: 0.3947\n",
      "Epoch 15/40\n",
      "86/86 [==============================] - 0s - loss: 5.2119 - acc: 0.5465 - val_loss: 4.7970 - val_acc: 0.3947\n",
      "Epoch 16/40\n",
      "86/86 [==============================] - 0s - loss: 5.1876 - acc: 0.5116 - val_loss: 4.7808 - val_acc: 0.5000\n",
      "Epoch 17/40\n",
      "86/86 [==============================] - 0s - loss: 5.1729 - acc: 0.4884 - val_loss: 4.7552 - val_acc: 0.4737\n",
      "Epoch 18/40\n",
      "86/86 [==============================] - 0s - loss: 5.0641 - acc: 0.5698 - val_loss: 4.6380 - val_acc: 0.5000\n",
      "Epoch 19/40\n",
      "86/86 [==============================] - 0s - loss: 4.9510 - acc: 0.6047 - val_loss: 4.6837 - val_acc: 0.5263\n",
      "Epoch 20/40\n",
      "86/86 [==============================] - 0s - loss: 4.9496 - acc: 0.6047 - val_loss: 4.7189 - val_acc: 0.5000\n",
      "Epoch 21/40\n",
      "86/86 [==============================] - 0s - loss: 4.9289 - acc: 0.5930 - val_loss: 4.7184 - val_acc: 0.5000\n",
      "Epoch 22/40\n",
      "86/86 [==============================] - 0s - loss: 4.9191 - acc: 0.5930 - val_loss: 4.7730 - val_acc: 0.3947\n",
      "Epoch 23/40\n",
      "86/86 [==============================] - 0s - loss: 4.9187 - acc: 0.5581 - val_loss: 4.8438 - val_acc: 0.3947\n",
      "Epoch 24/40\n",
      "86/86 [==============================] - 0s - loss: 4.9066 - acc: 0.6047 - val_loss: 4.6945 - val_acc: 0.4474\n",
      "Epoch 25/40\n",
      "86/86 [==============================] - 0s - loss: 4.9107 - acc: 0.5814 - val_loss: 4.6364 - val_acc: 0.5263\n",
      "Epoch 26/40\n",
      "86/86 [==============================] - 0s - loss: 4.8821 - acc: 0.6279 - val_loss: 4.7496 - val_acc: 0.5000\n",
      "Epoch 27/40\n",
      "86/86 [==============================] - 0s - loss: 4.9104 - acc: 0.5930 - val_loss: 4.7877 - val_acc: 0.4211\n",
      "Epoch 28/40\n",
      "86/86 [==============================] - 0s - loss: 4.8812 - acc: 0.6163 - val_loss: 4.6516 - val_acc: 0.4737\n",
      "Epoch 29/40\n",
      "86/86 [==============================] - 0s - loss: 4.8809 - acc: 0.6279 - val_loss: 4.6582 - val_acc: 0.4737\n",
      "Epoch 30/40\n",
      "86/86 [==============================] - 0s - loss: 4.8707 - acc: 0.6279 - val_loss: 4.7282 - val_acc: 0.4211\n",
      "Epoch 31/40\n",
      "86/86 [==============================] - 0s - loss: 4.8645 - acc: 0.6279 - val_loss: 4.7478 - val_acc: 0.4474\n",
      "Epoch 32/40\n",
      "86/86 [==============================] - 0s - loss: 4.8632 - acc: 0.6395 - val_loss: 4.6755 - val_acc: 0.4474\n",
      "Epoch 33/40\n",
      "86/86 [==============================] - 0s - loss: 4.8629 - acc: 0.6395 - val_loss: 4.6377 - val_acc: 0.5263\n",
      "Epoch 34/40\n",
      "86/86 [==============================] - 0s - loss: 4.8630 - acc: 0.6279 - val_loss: 4.7397 - val_acc: 0.4211\n",
      "Epoch 35/40\n",
      "86/86 [==============================] - 0s - loss: 4.8668 - acc: 0.6395 - val_loss: 4.7883 - val_acc: 0.4211\n",
      "Epoch 36/40\n",
      "86/86 [==============================] - 0s - loss: 4.8636 - acc: 0.6512 - val_loss: 4.6431 - val_acc: 0.5263\n",
      "Epoch 37/40\n",
      "86/86 [==============================] - 0s - loss: 4.8550 - acc: 0.6395 - val_loss: 4.6841 - val_acc: 0.4474\n",
      "Epoch 38/40\n",
      "86/86 [==============================] - 0s - loss: 4.8535 - acc: 0.6047 - val_loss: 4.7868 - val_acc: 0.4211\n",
      "Epoch 39/40\n",
      "86/86 [==============================] - 0s - loss: 4.8602 - acc: 0.6395 - val_loss: 4.7064 - val_acc: 0.4211\n",
      "Epoch 40/40\n",
      "86/86 [==============================] - 0s - loss: 4.8457 - acc: 0.6395 - val_loss: 4.7203 - val_acc: 0.3947\n"
     ]
    }
   ],
   "source": [
    "history = model.fit(x_train, y_train, epochs=40, batch_size=32, validation_data=(x_test, y_test))"
   ]
  },
  {
   "cell_type": "code",
   "execution_count": 67,
   "metadata": {},
   "outputs": [
    {
     "data": {
      "image/png": "[encoded data removed]",
      "text/plain": [
       "<matplotlib.figure.Figure at 0x11db6b9d0>"
      ]
     },
     "metadata": {},
     "output_type": "display_data"
    }
   ],
   "source": [
    "epochs = range(1, 41)\n",
    "plt.figure()\n",
    "plt.plot(epochs, history.history['loss'], 'bo', label='Training loss')\n",
    "plt.plot(epochs, history.history['val_loss'], 'b', label='Validation loss')\n",
    "plt.title('Training and validation loss')\n",
    "plt.legend()\n",
    "plt.show()"
   ]
  },
  {
   "cell_type": "markdown",
   "metadata": {},
   "source": [
    "## Results FFN"
   ]
  },
  {
   "cell_type": "code",
   "execution_count": 68,
   "metadata": {},
   "outputs": [
    {
     "data": {
      "image/png": "[encoded data removed]",
      "text/plain": [
       "<matplotlib.figure.Figure at 0x11dbf7810>"
      ]
     },
     "metadata": {},
     "output_type": "display_data"
    }
   ],
   "source": [
    "plt.figure()\n",
    "plt.plot(epochs, history.history['acc'], 'bo', label='Training accuracy')\n",
    "plt.plot(epochs, history.history['val_acc'], 'b', label='Validation accuracy')\n",
    "plt.title('Training and validation accuracy')\n",
    "plt.legend()\n",
    "plt.show()"
   ]
  },
  {
   "cell_type": "code",
   "execution_count": 69,
   "metadata": {},
   "outputs": [
    {
     "name": "stdout",
     "output_type": "stream",
     "text": [
      "32/38 [========================>.....] - ETA: 0s\n",
      "Accuracy = 0.39\n",
      "Precision: 0.394736842105\n",
      "Recall: 0.394736842105\n",
      "F-Score: 0.394736842105\n",
      "Confusion Matrix:\n",
      "[[9 0 0 5]\n",
      " [0 1 0 6]\n",
      " [0 0 0 9]\n",
      " [1 2 0 5]]\n"
     ]
    }
   ],
   "source": [
    "def evaluate(model, x_test, y_test):\n",
    "    y_prob = model.predict_proba(x_test, verbose=0)\n",
    "    y_pred = y_prob.argmax(axis=-1)\n",
    "    y_true = np.argmax(y_test, 1)\n",
    "    \n",
    "    # evaluate the model\n",
    "    score, accuracy = model.evaluate(x_test, y_test, batch_size=32)\n",
    "    print(\"\\nAccuracy = {:.2f}\".format(accuracy))\n",
    "\n",
    "    # the F-score gives a similiar value to the accuracy score, but useful for cross-checking\n",
    "    p = precision_score(y_true, y_pred, average='micro')\n",
    "    r = recall_score(y_true, y_pred, average='micro')\n",
    "    f1 = f1_score(y_true, y_pred, average='micro')\n",
    "    print \"Precision:\", p\n",
    "    print \"Recall:\", r\n",
    "    print \"F-Score:\", f1\n",
    "    print \"Confusion Matrix:\"\n",
    "    print confusion_matrix(y_true, y_pred)\n",
    "    \n",
    "evaluate(model, x_test, y_test)"
   ]
  },
  {
   "cell_type": "markdown",
   "metadata": {},
   "source": [
    "## CNN"
   ]
  },
  {
   "cell_type": "markdown",
   "metadata": {},
   "source": [
    "Now lets do the same but this time with method used for the CNN in WB3."
   ]
  },
  {
   "cell_type": "code",
   "execution_count": 70,
   "metadata": {
    "collapsed": true
   },
   "outputs": [],
   "source": [
    "def windows(data, window_size):\n",
    "    start = 0\n",
    "    while start < len(data):\n",
    "        yield start, start + window_size\n",
    "        start += (window_size / 2)\n",
    "\n",
    "def extract_features_cnn(filename, bands = 60, frames = 41):\n",
    "    window_size = 512 * (frames - 1)\n",
    "    log_specgrams = []\n",
    "    sound_clip,s = librosa.load(filename)        \n",
    "    for (start,end) in windows(sound_clip,window_size):\n",
    "        start = int(start)\n",
    "        end = int(end)\n",
    "        if(len(sound_clip[start:end]) == window_size):\n",
    "            signal = sound_clip[start:end]\n",
    "            melspec = librosa.feature.melspectrogram(signal, n_mels = bands)\n",
    "            logspec = librosa.logamplitude(melspec)\n",
    "            logspec = logspec.T.flatten()[:, np.newaxis].T\n",
    "            log_specgrams.append(logspec)\n",
    "            \n",
    "    log_specgrams = np.asarray(log_specgrams).reshape(len(log_specgrams),bands,frames,1)\n",
    "    features = np.concatenate((log_specgrams, np.zeros(np.shape(log_specgrams))), axis = 3)\n",
    "    for i in range(len(features)):\n",
    "        features[i, :, :, 1] = librosa.feature.delta(features[i, :, :, 0])\n",
    "    \n",
    "    return np.array(features)"
   ]
  },
  {
   "cell_type": "code",
   "execution_count": 101,
   "metadata": {
    "collapsed": true
   },
   "outputs": [],
   "source": [
    "def parse_files_cnn(df):\n",
    "    save_path = os.path.join('data', 'kaggle', 'reduced_features')\n",
    "    bands = 60\n",
    "    frames = 41\n",
    "    window_size = 512 * (frames - 1)\n",
    "    log_specgrams = []\n",
    "    labels = []\n",
    "    for index, row in df.iterrows():\n",
    "        sound_clip,s = librosa.load(row['fname'])\n",
    "        label = row['label']\n",
    "        for (start,end) in windows(sound_clip,window_size):\n",
    "            if(len(sound_clip[start:end]) == int(window_size)):\n",
    "                signal = sound_clip[start:end]\n",
    "                melspec = librosa.feature.melspectrogram(signal, n_mels = bands)\n",
    "                logspec = librosa.logamplitude(melspec)\n",
    "                logspec = logspec.T.flatten()[:, np.newaxis].T\n",
    "                log_specgrams.append(logspec)\n",
    "                labels.append(label)\n",
    "    log_specgrams = np.asarray(log_specgrams).reshape(len(log_specgrams),bands,frames,1)\n",
    "    features = np.concatenate((log_specgrams, np.zeros(np.shape(log_specgrams))), axis = 3)\n",
    "    for i in range(len(features)):\n",
    "        features[i, :, :, 1] = librosa.feature.delta(features[i, :, :, 0])\n",
    "    feature_file = os.path.join(save_path, 'cnn_x.npy')\n",
    "    np.save(feature_file, np.array(features))    \n",
    "    encoder = LabelEncoder()\n",
    "    encoder.fit(labels)\n",
    "    encoded_Y = encoder.transform(labels)\n",
    "    y = np_utils.to_categorical(encoded_Y)\n",
    "    label_file = os.path.join(save_path, 'cnn_y.npy')\n",
    "    np.save(label_file, np.array(y))"
   ]
  },
  {
   "cell_type": "code",
   "execution_count": 102,
   "metadata": {
    "collapsed": true
   },
   "outputs": [],
   "source": [
    "df = clean_dataset()\n",
    "parse_files_cnn(df)"
   ]
  },
  {
   "cell_type": "code",
   "execution_count": 104,
   "metadata": {},
   "outputs": [
    {
     "name": "stdout",
     "output_type": "stream",
     "text": [
      "('Adding X:', 'cnn_x.npy')\n",
      "('Shape X:', (1976, 60, 41, 2))\n",
      "('Adding y:', 'cnn_y.npy')\n",
      "('Shape Y:', (1976, 4))\n"
     ]
    }
   ],
   "source": [
    "npfiles = [('cnn_x.npy','cnn_y.npy')]\n",
    "\n",
    "data_dir = os.path.join('data', 'kaggle', 'reduced_features')\n",
    "\n",
    "def load_npfiles(npfiles):\n",
    "    concatenate = False\n",
    "    for x, y in npfiles:\n",
    "        print(\"Adding X:\", x)\n",
    "        loaded_features = np.load(os.path.join(data_dir, x))\n",
    "        print(\"Shape X:\", loaded_features.shape)\n",
    "\n",
    "        print(\"Adding y:\", y)\n",
    "        loaded_labels = np.load(os.path.join(data_dir, y))\n",
    "        print(\"Shape Y:\", loaded_labels.shape)\n",
    "\n",
    "        if concatenate:\n",
    "            features = np.concatenate((features, loaded_features))\n",
    "            labels = np.concatenate((labels, loaded_labels))\n",
    "        else:\n",
    "            features = loaded_features\n",
    "            labels = loaded_labels\n",
    "            concatenate = True\n",
    "    return features, labels\n",
    "    \n",
    "X, y = load_npfiles(npfiles)"
   ]
  },
  {
   "cell_type": "markdown",
   "metadata": {},
   "source": [
    "## Training CNN"
   ]
  },
  {
   "cell_type": "code",
   "execution_count": 106,
   "metadata": {
    "collapsed": true
   },
   "outputs": [],
   "source": [
    "x_train, x_test, y_train, y_test = train_test_split(X, y, test_size=0.30, random_state=42)"
   ]
  },
  {
   "cell_type": "code",
   "execution_count": 115,
   "metadata": {
    "collapsed": true
   },
   "outputs": [],
   "source": [
    "from keras.models import Sequential\n",
    "from keras.layers import Convolution2D, MaxPooling2D\n",
    "from keras.layers import Dense, Dropout, Activation, Flatten\n",
    "import keras.backend as K\n",
    "\n",
    "def create_model_cnn(dropout_rate=0.5):\n",
    "    frames = 41\n",
    "    bands = 60\n",
    "    feature_size = bands * frames\n",
    "    num_channels = 2\n",
    "    f_size = 1\n",
    "    model = Sequential()\n",
    "    model.add(Convolution2D(48, f_size, strides=f_size, kernel_initializer='normal', padding='same', input_shape=(bands, frames, num_channels)))\n",
    "    model.add(Convolution2D(48, f_size, strides=f_size, kernel_initializer='normal', padding='same'))\n",
    "    model.add(Activation('relu'))\n",
    "    model.add(MaxPooling2D(pool_size=(2, 2)))\n",
    "    model.add(Convolution2D(96, f_size, strides=f_size, kernel_initializer='normal', padding='same'))\n",
    "    model.add(Convolution2D(96, f_size, strides=f_size, kernel_initializer='normal', padding='same'))\n",
    "    model.add(Activation('relu'))\n",
    "    model.add(MaxPooling2D(pool_size=(2, 2)))\n",
    "    model.add(Flatten())\n",
    "    model.add(Dense(256))\n",
    "    model.add(Activation('relu'))\n",
    "    model.add(Dense(32))\n",
    "    model.add(Dropout(dropout_rate))\n",
    "    model.add(Dense(4))\n",
    "    model.add(Activation('softmax'))\n",
    "    model.compile(optimizer='adam', loss='categorical_crossentropy', metrics=['accuracy'])\n",
    "    return model"
   ]
  },
  {
   "cell_type": "code",
   "execution_count": 116,
   "metadata": {
    "collapsed": true
   },
   "outputs": [],
   "source": [
    "model = create_model_cnn()"
   ]
  },
  {
   "cell_type": "code",
   "execution_count": 117,
   "metadata": {},
   "outputs": [
    {
     "name": "stdout",
     "output_type": "stream",
     "text": [
      "Train on 1383 samples, validate on 593 samples\n",
      "Epoch 1/40\n",
      "1383/1383 [==============================] - 14s - loss: 1.1817 - acc: 0.4736 - val_loss: 0.9332 - val_acc: 0.6459\n",
      "Epoch 2/40\n",
      "1383/1383 [==============================] - 13s - loss: 0.9075 - acc: 0.6161 - val_loss: 0.8161 - val_acc: 0.6560\n",
      "Epoch 3/40\n",
      "1383/1383 [==============================] - 13s - loss: 0.7674 - acc: 0.6500 - val_loss: 0.7265 - val_acc: 0.6880\n",
      "Epoch 4/40\n",
      "1383/1383 [==============================] - 13s - loss: 0.6761 - acc: 0.7180 - val_loss: 0.6802 - val_acc: 0.6981\n",
      "Epoch 5/40\n",
      "1383/1383 [==============================] - 13s - loss: 0.6465 - acc: 0.7231 - val_loss: 0.7025 - val_acc: 0.7032\n",
      "Epoch 6/40\n",
      "1383/1383 [==============================] - 13s - loss: 0.5970 - acc: 0.7542 - val_loss: 0.6725 - val_acc: 0.6880\n",
      "Epoch 7/40\n",
      "1383/1383 [==============================] - 13s - loss: 0.5754 - acc: 0.7542 - val_loss: 0.6860 - val_acc: 0.6863\n",
      "Epoch 8/40\n",
      "1383/1383 [==============================] - 13s - loss: 0.5088 - acc: 0.7773 - val_loss: 0.5887 - val_acc: 0.7504\n",
      "Epoch 9/40\n",
      "1383/1383 [==============================] - 13s - loss: 0.4592 - acc: 0.8033 - val_loss: 0.7520 - val_acc: 0.7268\n",
      "Epoch 10/40\n",
      "1383/1383 [==============================] - 16s - loss: 0.4789 - acc: 0.7997 - val_loss: 0.5741 - val_acc: 0.7521\n",
      "Epoch 11/40\n",
      "1383/1383 [==============================] - 13s - loss: 0.4381 - acc: 0.8185 - val_loss: 0.5884 - val_acc: 0.7504\n",
      "Epoch 12/40\n",
      "1383/1383 [==============================] - 13s - loss: 0.3708 - acc: 0.8445 - val_loss: 0.6387 - val_acc: 0.7555\n",
      "Epoch 13/40\n",
      "1383/1383 [==============================] - 13s - loss: 0.3492 - acc: 0.8525 - val_loss: 0.6239 - val_acc: 0.7791\n",
      "Epoch 14/40\n",
      "1383/1383 [==============================] - 13s - loss: 0.3506 - acc: 0.8561 - val_loss: 0.6051 - val_acc: 0.7740\n",
      "Epoch 15/40\n",
      "1383/1383 [==============================] - 13s - loss: 0.3147 - acc: 0.8706 - val_loss: 0.6156 - val_acc: 0.7622\n",
      "Epoch 16/40\n",
      "1383/1383 [==============================] - 13s - loss: 0.2651 - acc: 0.8966 - val_loss: 0.6224 - val_acc: 0.7858\n",
      "Epoch 17/40\n",
      "1383/1383 [==============================] - 13s - loss: 0.2387 - acc: 0.9024 - val_loss: 0.6771 - val_acc: 0.7960\n",
      "Epoch 18/40\n",
      "1383/1383 [==============================] - 14s - loss: 0.2550 - acc: 0.9031 - val_loss: 0.6881 - val_acc: 0.8010\n",
      "Epoch 19/40\n",
      "1383/1383 [==============================] - 15s - loss: 0.2555 - acc: 0.9038 - val_loss: 0.7449 - val_acc: 0.7639\n",
      "Epoch 20/40\n",
      "1383/1383 [==============================] - 14s - loss: 0.2451 - acc: 0.9125 - val_loss: 0.8890 - val_acc: 0.7420\n",
      "Epoch 21/40\n",
      "1383/1383 [==============================] - 15s - loss: 0.2238 - acc: 0.9125 - val_loss: 0.6950 - val_acc: 0.7774\n",
      "Epoch 22/40\n",
      "1383/1383 [==============================] - 13s - loss: 0.1851 - acc: 0.9414 - val_loss: 0.7807 - val_acc: 0.7993\n",
      "Epoch 23/40\n",
      "1383/1383 [==============================] - 15s - loss: 0.1207 - acc: 0.9559 - val_loss: 0.8583 - val_acc: 0.8111\n",
      "Epoch 24/40\n",
      "1383/1383 [==============================] - 15s - loss: 0.1024 - acc: 0.9610 - val_loss: 1.0185 - val_acc: 0.7943\n",
      "Epoch 25/40\n",
      "1383/1383 [==============================] - 13s - loss: 0.1019 - acc: 0.9646 - val_loss: 0.9026 - val_acc: 0.7926\n",
      "Epoch 26/40\n",
      "1383/1383 [==============================] - 13s - loss: 0.1074 - acc: 0.9610 - val_loss: 0.9360 - val_acc: 0.7892\n",
      "Epoch 27/40\n",
      "1383/1383 [==============================] - 13s - loss: 0.1028 - acc: 0.9696 - val_loss: 1.0092 - val_acc: 0.8078\n",
      "Epoch 28/40\n",
      "1383/1383 [==============================] - 13s - loss: 0.0737 - acc: 0.9732 - val_loss: 1.0244 - val_acc: 0.8145\n",
      "Epoch 29/40\n",
      "1383/1383 [==============================] - 13s - loss: 0.0731 - acc: 0.9754 - val_loss: 1.0844 - val_acc: 0.8010\n",
      "Epoch 30/40\n",
      "1383/1383 [==============================] - 13s - loss: 0.2001 - acc: 0.9501 - val_loss: 1.0185 - val_acc: 0.7993\n",
      "Epoch 31/40\n",
      "1383/1383 [==============================] - 13s - loss: 0.1461 - acc: 0.9523 - val_loss: 0.9943 - val_acc: 0.7926\n",
      "Epoch 32/40\n",
      "1383/1383 [==============================] - 13s - loss: 0.0745 - acc: 0.9754 - val_loss: 1.0641 - val_acc: 0.7875\n",
      "Epoch 33/40\n",
      "1383/1383 [==============================] - 13s - loss: 0.0813 - acc: 0.9689 - val_loss: 1.0097 - val_acc: 0.7976\n",
      "Epoch 34/40\n",
      "1383/1383 [==============================] - 13s - loss: 0.1029 - acc: 0.9711 - val_loss: 1.0570 - val_acc: 0.8061\n",
      "Epoch 35/40\n",
      "1383/1383 [==============================] - 13s - loss: 0.0458 - acc: 0.9834 - val_loss: 1.1642 - val_acc: 0.8078\n",
      "Epoch 36/40\n",
      "1383/1383 [==============================] - 15s - loss: 0.0438 - acc: 0.9855 - val_loss: 1.2194 - val_acc: 0.8010\n",
      "Epoch 37/40\n",
      "1383/1383 [==============================] - 16s - loss: 0.0558 - acc: 0.9798 - val_loss: 1.1540 - val_acc: 0.7926\n",
      "Epoch 38/40\n",
      "1383/1383 [==============================] - 13s - loss: 0.0876 - acc: 0.9740 - val_loss: 1.1741 - val_acc: 0.7858\n",
      "Epoch 39/40\n",
      "1383/1383 [==============================] - 13s - loss: 0.0457 - acc: 0.9884 - val_loss: 1.1794 - val_acc: 0.8145\n",
      "Epoch 40/40\n",
      "1383/1383 [==============================] - 13s - loss: 0.0837 - acc: 0.9725 - val_loss: 1.4211 - val_acc: 0.7757\n"
     ]
    }
   ],
   "source": [
    "history = model.fit(x_train, y_train, epochs=40, batch_size=32, validation_data=(x_test, y_test))"
   ]
  },
  {
   "cell_type": "markdown",
   "metadata": {},
   "source": [
    "## Results CNN"
   ]
  },
  {
   "cell_type": "code",
   "execution_count": 118,
   "metadata": {},
   "outputs": [
    {
     "data": {
      "image/png": "[encoded data removed]",
      "text/plain": [
       "<matplotlib.figure.Figure at 0x11ffae510>"
      ]
     },
     "metadata": {},
     "output_type": "display_data"
    }
   ],
   "source": [
    "epochs = range(1, 41)\n",
    "plt.figure()\n",
    "plt.plot(epochs, history.history['loss'], 'bo', label='Training loss')\n",
    "plt.plot(epochs, history.history['val_loss'], 'b', label='Validation loss')\n",
    "plt.title('Training and validation loss')\n",
    "plt.legend()\n",
    "plt.show()"
   ]
  },
  {
   "cell_type": "code",
   "execution_count": 119,
   "metadata": {},
   "outputs": [
    {
     "data": {
      "image/png": "[encoded data removed]",
      "text/plain": [
       "<matplotlib.figure.Figure at 0x11ee561d0>"
      ]
     },
     "metadata": {},
     "output_type": "display_data"
    }
   ],
   "source": [
    "plt.figure()\n",
    "plt.plot(epochs, history.history['acc'], 'bo', label='Training accuracy')\n",
    "plt.plot(epochs, history.history['val_acc'], 'b', label='Validation accuracy')\n",
    "plt.title('Training and validation accuracy')\n",
    "plt.legend()\n",
    "plt.show()"
   ]
  },
  {
   "cell_type": "code",
   "execution_count": 120,
   "metadata": {},
   "outputs": [
    {
     "name": "stdout",
     "output_type": "stream",
     "text": [
      "576/593 [============================>.] - ETA: 0s\n",
      "Accuracy = 0.78\n",
      "Precision: 0.775716694772\n",
      "Recall: 0.775716694772\n",
      "F-Score: 0.775716694772\n",
      "Confusion Matrix:\n",
      "[[210   5   3   6]\n",
      " [  1  43   7  21]\n",
      " [  0   5 137   6]\n",
      " [  7  35  37  70]]\n"
     ]
    }
   ],
   "source": [
    "evaluate(model, x_test, y_test)"
   ]
  },
  {
   "cell_type": "markdown",
   "metadata": {},
   "source": [
    "## Transfer Learning"
   ]
  },
  {
   "cell_type": "markdown",
   "metadata": {},
   "source": [
    "In this part we will use the CNN that was trained in WB3. This CNN was trained with a bigger dataset and with a different set of labels. In this part we will take off the densly connected layer of model. Then we will freeze the convolutional layers so when the model trains with the new data the weights don't get modified. Finally we will add densly connected layers to clasify the four kind of labels present in the Kaggle dataset.\n",
    "\n",
    "Since in WB3 we just saved the weights of the model we will need to create a model with the same structure as in WB3 and then load the corresponding weights."
   ]
  },
  {
   "cell_type": "code",
   "execution_count": 163,
   "metadata": {
    "collapsed": true
   },
   "outputs": [],
   "source": [
    "def create_model(dropout_rate=0.5):\n",
    "    frames = 41\n",
    "    bands = 60\n",
    "    feature_size = bands * frames\n",
    "    num_channels = 2\n",
    "    f_size = 1\n",
    "    model = Sequential()\n",
    "    model.add(Convolution2D(48, f_size, strides=f_size, kernel_initializer='normal', padding='same', input_shape=(bands, frames, num_channels)))\n",
    "    model.add(Convolution2D(48, f_size, strides=f_size, kernel_initializer='normal', padding='same'))\n",
    "    model.add(Activation('relu'))\n",
    "    model.add(MaxPooling2D(pool_size=(2, 2)))\n",
    "    model.add(Convolution2D(96, f_size, strides=f_size, kernel_initializer='normal', padding='same'))\n",
    "    model.add(Convolution2D(96, f_size, strides=f_size, kernel_initializer='normal', padding='same'))\n",
    "    model.add(Activation('relu'))\n",
    "    model.add(MaxPooling2D(pool_size=(2, 2)))\n",
    "    model.add(Flatten())\n",
    "    model.add(Dense(256))\n",
    "    model.add(Activation('relu'))\n",
    "    model.add(Dense(32))\n",
    "    model.add(Dropout(dropout_rate))\n",
    "    model.add(Dense(1))\n",
    "    model.add(Activation('sigmoid'))\n",
    "    model.compile(optimizer='adam', loss='binary_crossentropy', metrics=['accuracy'])\n",
    "    return model"
   ]
  },
  {
   "cell_type": "code",
   "execution_count": 164,
   "metadata": {
    "collapsed": true
   },
   "outputs": [],
   "source": [
    "model = create_model()"
   ]
  },
  {
   "cell_type": "code",
   "execution_count": 165,
   "metadata": {
    "collapsed": true
   },
   "outputs": [],
   "source": [
    "model.load_weights('models/cnn_best.hdf5')"
   ]
  },
  {
   "cell_type": "code",
   "execution_count": 166,
   "metadata": {},
   "outputs": [
    {
     "name": "stdout",
     "output_type": "stream",
     "text": [
      "_________________________________________________________________\n",
      "Layer (type)                 Output Shape              Param #   \n",
      "=================================================================\n",
      "conv2d_25 (Conv2D)           (None, 60, 41, 48)        144       \n",
      "_________________________________________________________________\n",
      "conv2d_26 (Conv2D)           (None, 60, 41, 48)        2352      \n",
      "_________________________________________________________________\n",
      "activation_28 (Activation)   (None, 60, 41, 48)        0         \n",
      "_________________________________________________________________\n",
      "max_pooling2d_13 (MaxPooling (None, 30, 20, 48)        0         \n",
      "_________________________________________________________________\n",
      "conv2d_27 (Conv2D)           (None, 30, 20, 96)        4704      \n",
      "_________________________________________________________________\n",
      "conv2d_28 (Conv2D)           (None, 30, 20, 96)        9312      \n",
      "_________________________________________________________________\n",
      "activation_29 (Activation)   (None, 30, 20, 96)        0         \n",
      "_________________________________________________________________\n",
      "max_pooling2d_14 (MaxPooling (None, 15, 10, 96)        0         \n",
      "_________________________________________________________________\n",
      "flatten_7 (Flatten)          (None, 14400)             0         \n",
      "_________________________________________________________________\n",
      "dense_32 (Dense)             (None, 256)               3686656   \n",
      "_________________________________________________________________\n",
      "activation_30 (Activation)   (None, 256)               0         \n",
      "_________________________________________________________________\n",
      "dense_33 (Dense)             (None, 32)                8224      \n",
      "_________________________________________________________________\n",
      "dropout_7 (Dropout)          (None, 32)                0         \n",
      "_________________________________________________________________\n",
      "dense_34 (Dense)             (None, 1)                 33        \n",
      "_________________________________________________________________\n",
      "activation_31 (Activation)   (None, 1)                 0         \n",
      "=================================================================\n",
      "Total params: 3,711,425.0\n",
      "Trainable params: 3,711,425.0\n",
      "Non-trainable params: 0.0\n",
      "_________________________________________________________________\n"
     ]
    }
   ],
   "source": [
    "model.summary()"
   ]
  },
  {
   "cell_type": "markdown",
   "metadata": {},
   "source": [
    "We will remove the orignal densly connected layers of the model."
   ]
  },
  {
   "cell_type": "code",
   "execution_count": 167,
   "metadata": {},
   "outputs": [
    {
     "data": {
      "text/plain": [
       "<keras.layers.core.Dense at 0x11fb267d0>"
      ]
     },
     "execution_count": 167,
     "metadata": {},
     "output_type": "execute_result"
    }
   ],
   "source": [
    "model.layers.pop()\n",
    "model.layers.pop()\n",
    "model.layers.pop()\n",
    "model.layers.pop()\n",
    "model.layers.pop()\n",
    "model.layers.pop()"
   ]
  },
  {
   "cell_type": "code",
   "execution_count": 168,
   "metadata": {},
   "outputs": [
    {
     "name": "stdout",
     "output_type": "stream",
     "text": [
      "_________________________________________________________________\n",
      "Layer (type)                 Output Shape              Param #   \n",
      "=================================================================\n",
      "conv2d_25 (Conv2D)           (None, 60, 41, 48)        144       \n",
      "_________________________________________________________________\n",
      "conv2d_26 (Conv2D)           (None, 60, 41, 48)        2352      \n",
      "_________________________________________________________________\n",
      "activation_28 (Activation)   (None, 60, 41, 48)        0         \n",
      "_________________________________________________________________\n",
      "max_pooling2d_13 (MaxPooling (None, 30, 20, 48)        0         \n",
      "_________________________________________________________________\n",
      "conv2d_27 (Conv2D)           (None, 30, 20, 96)        4704      \n",
      "_________________________________________________________________\n",
      "conv2d_28 (Conv2D)           (None, 30, 20, 96)        9312      \n",
      "_________________________________________________________________\n",
      "activation_29 (Activation)   (None, 30, 20, 96)        0         \n",
      "_________________________________________________________________\n",
      "max_pooling2d_14 (MaxPooling (None, 15, 10, 96)        0         \n",
      "_________________________________________________________________\n",
      "flatten_7 (Flatten)          (None, 14400)             0         \n",
      "=================================================================\n",
      "Total params: 16,512.0\n",
      "Trainable params: 16,512.0\n",
      "Non-trainable params: 0.0\n",
      "_________________________________________________________________\n"
     ]
    }
   ],
   "source": [
    "model.summary()"
   ]
  },
  {
   "cell_type": "markdown",
   "metadata": {},
   "source": [
    "This will freeze the convolutional part of the model."
   ]
  },
  {
   "cell_type": "code",
   "execution_count": 169,
   "metadata": {
    "collapsed": true
   },
   "outputs": [],
   "source": [
    "for layer in model.layers:\n",
    "    layer.trainable = False"
   ]
  },
  {
   "cell_type": "markdown",
   "metadata": {},
   "source": [
    "We will add different densly connected layers to be able to classify the four labels present in the dataset."
   ]
  },
  {
   "cell_type": "code",
   "execution_count": 170,
   "metadata": {
    "collapsed": true
   },
   "outputs": [],
   "source": [
    "model.add(Dense(256))\n",
    "model.add(Activation('relu'))\n",
    "model.add(Dense(32))\n",
    "model.add(Dropout(0.5))\n",
    "model.add(Dense(4))\n",
    "model.add(Activation('softmax'))\n",
    "model.compile(optimizer='adam', loss='categorical_crossentropy', metrics=['accuracy'])"
   ]
  },
  {
   "cell_type": "markdown",
   "metadata": {},
   "source": [
    "Lets train the model"
   ]
  },
  {
   "cell_type": "code",
   "execution_count": 171,
   "metadata": {},
   "outputs": [
    {
     "name": "stdout",
     "output_type": "stream",
     "text": [
      "Train on 1383 samples, validate on 593 samples\n",
      "Epoch 1/40\n",
      "1383/1383 [==============================] - 8s - loss: 1.3307 - acc: 0.4056 - val_loss: 1.2640 - val_acc: 0.5160\n",
      "Epoch 2/40\n",
      "1383/1383 [==============================] - 8s - loss: 1.1975 - acc: 0.5459 - val_loss: 1.1167 - val_acc: 0.5902\n",
      "Epoch 3/40\n",
      "1383/1383 [==============================] - 8s - loss: 1.0480 - acc: 0.6095 - val_loss: 0.9851 - val_acc: 0.6105\n",
      "Epoch 4/40\n",
      "1383/1383 [==============================] - 8s - loss: 0.9689 - acc: 0.6117 - val_loss: 0.9163 - val_acc: 0.6273\n",
      "Epoch 5/40\n",
      "1383/1383 [==============================] - 8s - loss: 0.8945 - acc: 0.6551 - val_loss: 0.8210 - val_acc: 0.6492\n",
      "Epoch 6/40\n",
      "1383/1383 [==============================] - 8s - loss: 0.8000 - acc: 0.6753 - val_loss: 0.7579 - val_acc: 0.6644\n",
      "Epoch 7/40\n",
      "1383/1383 [==============================] - 7s - loss: 0.7341 - acc: 0.6927 - val_loss: 0.7137 - val_acc: 0.6813\n",
      "Epoch 8/40\n",
      "1383/1383 [==============================] - 8s - loss: 0.6543 - acc: 0.7267 - val_loss: 0.6844 - val_acc: 0.7032\n",
      "Epoch 9/40\n",
      "1383/1383 [==============================] - 8s - loss: 0.6134 - acc: 0.7404 - val_loss: 0.6771 - val_acc: 0.7066\n",
      "Epoch 10/40\n",
      "1383/1383 [==============================] - 7s - loss: 0.5725 - acc: 0.7549 - val_loss: 0.6717 - val_acc: 0.6948\n",
      "Epoch 11/40\n",
      "1383/1383 [==============================] - 8s - loss: 0.5367 - acc: 0.7679 - val_loss: 0.6281 - val_acc: 0.7336\n",
      "Epoch 12/40\n",
      "1383/1383 [==============================] - 8s - loss: 0.4815 - acc: 0.7990 - val_loss: 0.6376 - val_acc: 0.7403\n",
      "Epoch 13/40\n",
      "1383/1383 [==============================] - 9s - loss: 0.4579 - acc: 0.8004 - val_loss: 0.5760 - val_acc: 0.7470\n",
      "Epoch 14/40\n",
      "1383/1383 [==============================] - 8s - loss: 0.4610 - acc: 0.8019 - val_loss: 0.6249 - val_acc: 0.7538\n",
      "Epoch 15/40\n",
      "1383/1383 [==============================] - 8s - loss: 0.4150 - acc: 0.8221 - val_loss: 0.6357 - val_acc: 0.7319\n",
      "Epoch 16/40\n",
      "1383/1383 [==============================] - 8s - loss: 0.4164 - acc: 0.8366 - val_loss: 0.5877 - val_acc: 0.7622\n",
      "Epoch 17/40\n",
      "1383/1383 [==============================] - 8s - loss: 0.3507 - acc: 0.8626 - val_loss: 0.6691 - val_acc: 0.7420\n",
      "Epoch 18/40\n",
      "1383/1383 [==============================] - 8s - loss: 0.3252 - acc: 0.8865 - val_loss: 0.6996 - val_acc: 0.7487\n",
      "Epoch 19/40\n",
      "1383/1383 [==============================] - 8s - loss: 0.3053 - acc: 0.8908 - val_loss: 0.7441 - val_acc: 0.7487\n",
      "Epoch 20/40\n",
      "1383/1383 [==============================] - 8s - loss: 0.2768 - acc: 0.8995 - val_loss: 0.7016 - val_acc: 0.7723\n",
      "Epoch 21/40\n",
      "1383/1383 [==============================] - 8s - loss: 0.2648 - acc: 0.9176 - val_loss: 0.7482 - val_acc: 0.7656\n",
      "Epoch 22/40\n",
      "1383/1383 [==============================] - 8s - loss: 0.2494 - acc: 0.9277 - val_loss: 0.8744 - val_acc: 0.7487\n",
      "Epoch 23/40\n",
      "1383/1383 [==============================] - 8s - loss: 0.2243 - acc: 0.9371 - val_loss: 0.8874 - val_acc: 0.7538\n",
      "Epoch 24/40\n",
      "1383/1383 [==============================] - 8s - loss: 0.2457 - acc: 0.9270 - val_loss: 0.8519 - val_acc: 0.7622\n",
      "Epoch 25/40\n",
      "1383/1383 [==============================] - 8s - loss: 0.2160 - acc: 0.9472 - val_loss: 0.8295 - val_acc: 0.7656\n",
      "Epoch 26/40\n",
      "1383/1383 [==============================] - 8s - loss: 0.1767 - acc: 0.9479 - val_loss: 0.9090 - val_acc: 0.7639\n",
      "Epoch 27/40\n",
      "1383/1383 [==============================] - 8s - loss: 0.1852 - acc: 0.9472 - val_loss: 1.0070 - val_acc: 0.7521\n",
      "Epoch 28/40\n",
      "1383/1383 [==============================] - 8s - loss: 0.1539 - acc: 0.9624 - val_loss: 0.9291 - val_acc: 0.7757\n",
      "Epoch 29/40\n",
      "1383/1383 [==============================] - 7s - loss: 0.1601 - acc: 0.9588 - val_loss: 0.9829 - val_acc: 0.7538\n",
      "Epoch 30/40\n",
      "1383/1383 [==============================] - 8s - loss: 0.1716 - acc: 0.9566 - val_loss: 0.9544 - val_acc: 0.7723\n",
      "Epoch 31/40\n",
      "1383/1383 [==============================] - 8s - loss: 0.1534 - acc: 0.9573 - val_loss: 1.0544 - val_acc: 0.7605\n",
      "Epoch 32/40\n",
      "1383/1383 [==============================] - 8s - loss: 0.1912 - acc: 0.9479 - val_loss: 1.0202 - val_acc: 0.7673\n",
      "Epoch 33/40\n",
      "1383/1383 [==============================] - 8s - loss: 0.1879 - acc: 0.9458 - val_loss: 1.0328 - val_acc: 0.7656\n",
      "Epoch 34/40\n",
      "1383/1383 [==============================] - 8s - loss: 0.1638 - acc: 0.9508 - val_loss: 1.1181 - val_acc: 0.7740\n",
      "Epoch 35/40\n",
      "1383/1383 [==============================] - 8s - loss: 0.1449 - acc: 0.9610 - val_loss: 1.2093 - val_acc: 0.7639\n",
      "Epoch 36/40\n",
      "1383/1383 [==============================] - 8s - loss: 0.1243 - acc: 0.9747 - val_loss: 1.1978 - val_acc: 0.7639\n",
      "Epoch 37/40\n",
      "1383/1383 [==============================] - 8s - loss: 0.1383 - acc: 0.9718 - val_loss: 1.1454 - val_acc: 0.7673\n",
      "Epoch 38/40\n",
      "1383/1383 [==============================] - 8s - loss: 0.1552 - acc: 0.9595 - val_loss: 1.2185 - val_acc: 0.7740\n",
      "Epoch 39/40\n",
      "1383/1383 [==============================] - 8s - loss: 0.1286 - acc: 0.9732 - val_loss: 1.1980 - val_acc: 0.7740\n",
      "Epoch 40/40\n",
      "1383/1383 [==============================] - 7s - loss: 0.1160 - acc: 0.9754 - val_loss: 1.1877 - val_acc: 0.7841\n"
     ]
    }
   ],
   "source": [
    "history = model.fit(x_train, y_train, epochs=40, batch_size=32, validation_data=(x_test, y_test))"
   ]
  },
  {
   "cell_type": "markdown",
   "metadata": {},
   "source": [
    "Lets evaluate results"
   ]
  },
  {
   "cell_type": "code",
   "execution_count": 172,
   "metadata": {},
   "outputs": [
    {
     "data": {
      "image/png": "[encoded data removed]",
      "text/plain": [
       "<matplotlib.figure.Figure at 0x123f8c590>"
      ]
     },
     "metadata": {},
     "output_type": "display_data"
    }
   ],
   "source": [
    "epochs = range(1, 41)\n",
    "plt.figure()\n",
    "plt.plot(epochs, history.history['loss'], 'bo', label='Training loss')\n",
    "plt.plot(epochs, history.history['val_loss'], 'b', label='Validation loss')\n",
    "plt.title('Training and validation loss')\n",
    "plt.legend()\n",
    "plt.show()"
   ]
  },
  {
   "cell_type": "code",
   "execution_count": 173,
   "metadata": {},
   "outputs": [
    {
     "data": {
      "image/png": "[encoded data removed]",
      "text/plain": [
       "<matplotlib.figure.Figure at 0x11c17bc90>"
      ]
     },
     "metadata": {},
     "output_type": "display_data"
    }
   ],
   "source": [
    "plt.figure()\n",
    "plt.plot(epochs, history.history['acc'], 'bo', label='Training accuracy')\n",
    "plt.plot(epochs, history.history['val_acc'], 'b', label='Validation accuracy')\n",
    "plt.title('Training and validation accuracy')\n",
    "plt.legend()\n",
    "plt.show()"
   ]
  },
  {
   "cell_type": "code",
   "execution_count": 174,
   "metadata": {},
   "outputs": [
    {
     "name": "stdout",
     "output_type": "stream",
     "text": [
      "576/593 [============================>.] - ETA: 0s\n",
      "Accuracy = 0.78\n",
      "Precision: 0.784148397976\n",
      "Recall: 0.784148397976\n",
      "F-Score: 0.784148397976\n",
      "Confusion Matrix:\n",
      "[[216   5   0   3]\n",
      " [  2  37   1  32]\n",
      " [  0   5 128  15]\n",
      " [  7  42  16  84]]\n"
     ]
    }
   ],
   "source": [
    "evaluate(model, x_test, y_test)"
   ]
  },
  {
   "cell_type": "code",
   "execution_count": null,
   "metadata": {
    "collapsed": true
   },
   "outputs": [],
   "source": []
  }
 ],
 "metadata": {
  "kernelspec": {
   "display_name": "Python 2",
   "language": "python",
   "name": "python2"
  },
  "language_info": {
   "codemirror_mode": {
    "name": "ipython",
    "version": 2
   },
   "file_extension": ".py",
   "mimetype": "text/x-python",
   "name": "python",
   "nbconvert_exporter": "python",
   "pygments_lexer": "ipython2",
   "version": "2.7.10"
  }
 },
 "nbformat": 4,
 "nbformat_minor": 2
}
